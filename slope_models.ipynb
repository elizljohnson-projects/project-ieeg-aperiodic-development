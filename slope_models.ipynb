{
 "cells": [
  {
   "cell_type": "markdown",
   "id": "0b16dfb2-706e-4b20-b3dc-ce236e95df5e",
   "metadata": {},
   "source": [
    "### **slope_models**\n",
    "\n",
    "Run hierarchical models on project data:\n",
    "- Test hypothesis (a), that in association cortices, the aperiodic slope flattens with age into young adulthood.\n",
    "- Test hypothesis (b), that in sensorimotor cortices, the aperiodic slope flattens with age into adolescence.\n",
    "- Test hypothesis (c), that regionally specific age effects differ between attentional states.\n",
    "\n",
    "Author: EL Johnson, PhD\n",
    "\n",
    "Copyright (c) 2022-2025  \n",
    "ZR Cross, PhD & EL Johnson, PhD"
   ]
  },
  {
   "cell_type": "markdown",
   "id": "f6f12b2d-82be-422b-864c-a0e54f131230",
   "metadata": {},
   "source": [
    "### Load packages:"
   ]
  },
  {
   "cell_type": "code",
   "execution_count": null,
   "id": "737925a2-5129-4f8a-b290-5be4ada1705b",
   "metadata": {},
   "outputs": [],
   "source": [
    "library(tidyverse)\n",
    "library(RColorBrewer)\n",
    "library(broom)\n",
    "library(lme4)\n",
    "library(lmerTest)\n",
    "library(splines)\n",
    "library(ggridges)"
   ]
  },
  {
   "cell_type": "markdown",
   "id": "dfbdc1d0-b1ef-4a18-8c2c-d63973a911f8",
   "metadata": {},
   "source": [
    "### Set directories:"
   ]
  },
  {
   "cell_type": "code",
   "execution_count": null,
   "id": "c3f77fb8-8a56-4551-bef5-dfe024386199",
   "metadata": {},
   "outputs": [],
   "source": [
    "pth <- getwd()  # navigate to directory containing folders of downloaded data\n",
    "datdir <- paste(pth, 'Preprocessed_data', sep = '/')\n",
    "savdir <- datdir  # replace with your save path"
   ]
  },
  {
   "cell_type": "markdown",
   "id": "afbacf2d-e629-4f37-a218-89e23bfd7100",
   "metadata": {},
   "source": [
    "### Load data:"
   ]
  },
  {
   "cell_type": "code",
   "execution_count": null,
   "id": "fcdecd31-4303-4264-9e36-6d4ee277babc",
   "metadata": {},
   "outputs": [],
   "source": [
    "dat_load <- paste(datdir, 'aperiodic_slope_models.csv', sep = '/')\n",
    "average_df <- read.csv(dat_load) %>% \n",
    "  select(-X)"
   ]
  },
  {
   "cell_type": "markdown",
   "id": "99cc3320-9651-4032-84ad-a64fe15a4b38",
   "metadata": {},
   "source": [
    "### Plot distribution of slopes:"
   ]
  },
  {
   "cell_type": "code",
   "execution_count": null,
   "id": "92686402-84d1-4e0c-aee8-55896f3860a1",
   "metadata": {},
   "outputs": [],
   "source": [
    "# convert DKT to factor with reverse alphabetical order\n",
    "average_df$DKT <- factor(average_df$DKT, levels = rev(unique(average_df$DKT[order(average_df$DKT)])))\n",
    "\n",
    "# plot with reverse alphabetically ordered DKT\n",
    "ggplot(average_df, aes(x = Slope, y = DKT, fill = after_stat(x))) +\n",
    "  geom_density_ridges_gradient(scale = 3, rel_min_height = 0.01) +\n",
    "  labs(y = '', x = 'Aperiodic slope') +\n",
    "  facet_grid(~condition) +\n",
    "  theme_minimal() +\n",
    "  theme(\n",
    "    panel.spacing = unit(0.1, 'lines'),\n",
    "    strip.text.x = element_text(size = 14, colour = 'black'),\n",
    "    strip.text.y = element_text(size = 14, colour = 'black'),\n",
    "    legend.position = 'none',\n",
    "    legend.spacing.x = unit(0.2, 'cm'),\n",
    "    legend.key.size = unit(0.4, 'cm'),\n",
    "    legend.background = element_rect(fill = alpha('blue', 0)),\n",
    "    legend.text = element_text(size = 10, colour = 'black'),\n",
    "    legend.title = element_text(size = 10, colour = 'black', face = 'bold'),\n",
    "    axis.text = element_text(size = 14),\n",
    "    axis.title = element_text(size = 14),\n",
    "    plot.title = element_text(size = 12, face = 'bold'))"
   ]
  },
  {
   "cell_type": "markdown",
   "id": "84a771d6-4e02-49be-b81a-ed20b7164dee",
   "metadata": {},
   "source": [
    "### Get demographic data:"
   ]
  },
  {
   "cell_type": "code",
   "execution_count": null,
   "id": "c4f9ab00-13bf-4053-a8cf-5df805d1936d",
   "metadata": {},
   "outputs": [],
   "source": [
    "# get number of males/females by condition\n",
    "sex_condition <- average_df %>%\n",
    "  ungroup() %>% \n",
    "  select(subj, sex, age) %>%\n",
    "  group_by(sex, subj) %>% \n",
    "  dplyr::summarise(age = mean(age)) %>% \n",
    "  dplyr::count(sex, sort = TRUE)\n",
    "\n",
    "# make unique subjects into a df\n",
    "sid_list <- unique(average_df$subj)\n",
    "sid_list <- as.data.frame(sid_list)\n",
    "\n",
    "# check length of channels\n",
    "length(unique(average_df$realID))\n",
    "\n",
    "# get information for age\n",
    "summary(average_df$age)\n",
    "\n",
    "# remove subcortical b/c there aren't enough observations to model\n",
    "average_df <- average_df %>% \n",
    "  filter(DKT != 'subcortical')"
   ]
  },
  {
   "cell_type": "markdown",
   "id": "9672ae7e-908e-4fc1-b11e-a93152a2ebbf",
   "metadata": {},
   "source": [
    "### Run model to test hypotheses (a) and (b):"
   ]
  },
  {
   "cell_type": "code",
   "execution_count": null,
   "id": "3b9783ba-01c7-4ee6-9923-cc969d3f5acf",
   "metadata": {},
   "outputs": [],
   "source": [
    "large_df <- average_df %>%\n",
    "      filter(DKT != 'amygdala' & DKT != 'hippocampus') %>%\n",
    "      select(Slope, Offset, subj, DKT, age, realID) %>%\n",
    "      mutate(Cortex = case_when(\n",
    "          DKT %in% c('caudal middle frontal', 'insula', 'caudal anterior cingulate',\n",
    "               'fusiform', 'inferior temporal', 'inferior parietal', \n",
    "               'superior temporal', 'middle temporal', 'parahippocampal', \n",
    "               'rostral middle frontal', 'posterior cingulate', \n",
    "               'superior parietal', 'medial orbitofrontal', \n",
    "               'inferior frontal', 'lateral orbitofrontal', 'temporal pole') ~ 'Association',\n",
    "          DKT %in% c('postcentral', 'precentral', 'lateral occipital') ~ 'Sensorimotor',\n",
    "          TRUE ~ NA_character_   # in case there are other regions not covered\n",
    "      )) %>%\n",
    "      group_by(subj, realID, Cortex, DKT) %>%\n",
    "      dplyr::summarise(Slope = mean(Slope),\n",
    "                       Offset = mean(Offset),\n",
    "                       age = mean(age)) %>% \n",
    "      na.omit()\n",
    "\n",
    "large_df$subj <- as.factor(large_df$subj)\n",
    "large_df$realID <- as.factor(large_df$realID)\n",
    "large_df$Cortex <- as.factor(large_df$Cortex)\n",
    "large_df$DKT <- as.factor(large_df$DKT)\n",
    "\n",
    "large_model_slope <- lmer(Slope ~ ns(age, df = 2) * Cortex + (1|subj) + (1|DKT), data = large_df, control = lmerControl(optimizer = 'bobyqa'))\n",
    "summary(large_model_slope)"
   ]
  },
  {
   "cell_type": "markdown",
   "id": "89896bf0-58aa-4a16-812f-62909ca222bd",
   "metadata": {},
   "source": [
    "### Save large model:"
   ]
  },
  {
   "cell_type": "code",
   "execution_count": null,
   "id": "d0af0e8e-d3e8-4dc6-bac9-8808df387db5",
   "metadata": {},
   "outputs": [],
   "source": [
    "dat_save <- paste(savdir, 'large_model_slope.RData', sep = '/')\n",
    "save(large_model_slope, file = dat_save)"
   ]
  },
  {
   "cell_type": "markdown",
   "id": "c8ea1cc5-e995-405d-b003-105f531cb5f8",
   "metadata": {},
   "source": [
    "### Run model to test hypothesis (c):"
   ]
  },
  {
   "cell_type": "code",
   "execution_count": null,
   "id": "19956c48-ff16-40bb-a074-d8cb6f42f8ae",
   "metadata": {},
   "outputs": [],
   "source": [
    "# loop through DKT regions\n",
    "run_lmm_and_extract_effects <- function(data) {\n",
    "    data <- na.omit(data)   # filter out rows with missing values\n",
    "    if (nrow(data) == 0) {\n",
    "        cat('Skipping: no non-NA data available for this DKT region.\\n')\n",
    "        return(data.frame())   # return an empty df if no data\n",
    "    }\n",
    "    \n",
    "    model <- lmer(Slope ~ age * condition + (1 | subj/realID) + (1|task), data = data, control = lmerControl(optimizer = 'bobyqa'))\n",
    "    \n",
    "    # extract fixed effects summary\n",
    "    return(as.data.frame(summary(model)$coefficients))\n",
    "}"
   ]
  },
  {
   "cell_type": "markdown",
   "id": "c28ba0a9-11ba-4057-974d-0b5530404c9a",
   "metadata": {},
   "source": [
    "### Create an empty list to populate with DKT labels:"
   ]
  },
  {
   "cell_type": "code",
   "execution_count": null,
   "id": "807003aa-b665-4b34-9626-17459ffb627b",
   "metadata": {},
   "outputs": [],
   "source": [
    "DKT_levels <- unique(average_df$DKT)\n",
    "combined_results <- data.frame()  # create an empty df for combined results\n",
    "results_df_slope <- data.frame()  # create an empty df for results"
   ]
  },
  {
   "cell_type": "markdown",
   "id": "9a4a5b4a-f9a1-40b1-b611-d9cacd492068",
   "metadata": {},
   "source": [
    "### Apply lmer function to each DKT region:"
   ]
  },
  {
   "cell_type": "code",
   "execution_count": null,
   "id": "381808d1-3f40-4edb-80f1-6ea93a98451e",
   "metadata": {},
   "outputs": [],
   "source": [
    "for (level in DKT_levels) {\n",
    "    cat('Processing DKT level:', level, '\\n')\n",
    "    \n",
    "    # subset the data\n",
    "    subset_data <- average_df[average_df$DKT == level, ]\n",
    "    \n",
    "    # print the number of rows and a sample of the subset data for debugging\n",
    "    cat('Number of rows in subset_data:', nrow(subset_data), '\\n')\n",
    "    print(head(subset_data))\n",
    "    \n",
    "    # check if there's enough data to run the model\n",
    "    if (nrow(subset_data) < 5) {  # threshold can be adjusted as needed\n",
    "        cat('Skipping:', level, '- Not enough data.\\n')\n",
    "        next  # skip this iteration if not enough data\n",
    "    }\n",
    "    \n",
    "    # run lmer model and extract effects\n",
    "    results <- run_lmm_and_extract_effects(subset_data)\n",
    "    if (nrow(results) == 0) {\n",
    "        cat('Skipping:', level, '- No results returned.\\n')\n",
    "        next  # skip if no results returned\n",
    "    }\n",
    "    \n",
    "    # add the DKT level as a column in the results\n",
    "    results$DKT <- level\n",
    "    # append results to combined_results\n",
    "    combined_results <- rbind(combined_results, results)\n",
    "    \n",
    "    # run lmer model for slope results\n",
    "    model <- lmer(Slope ~ age * condition + (1 | subj/realID) + (1|task), data = subset_data, control = lmerControl(optimizer = 'bobyqa'))\n",
    "    summary_model <- summary(model)\n",
    "    \n",
    "    # extract estimates, standard errors, and p-values for the fixed effects\n",
    "    fixed_effects <- summary_model$coefficients[c(2, 3, 4), ]\n",
    "    \n",
    "    # create a new df to store the results for slope\n",
    "    result_row <- data.frame(\n",
    "        DKT = level, \n",
    "        Estimate_Age = fixed_effects['age', 'Estimate'], \n",
    "        SE_Age = fixed_effects['age', 'Std. Error'], \n",
    "        PValue_Age = fixed_effects['age', 'Pr(>|t|)'], \n",
    "        Estimate_Condition = fixed_effects['conditionTask', 'Estimate'], \n",
    "        SE_Condition = fixed_effects['conditionTask', 'Std. Error'], \n",
    "        PValue_Condition = fixed_effects['conditionTask', 'Pr(>|t|)'], \n",
    "        Estimate_Interaction = fixed_effects['age:conditionTask', 'Estimate'], \n",
    "        SE_Interaction = fixed_effects['age:conditionTask', 'Std. Error'], \n",
    "        PValue_Interaction = fixed_effects['age:conditionTask', 'Pr(>|t|)']\n",
    "        )\n",
    "    \n",
    "    # append the results to the main df for slope\n",
    "    results_df_slope <- rbind(results_df_slope, result_row)\n",
    "}"
   ]
  },
  {
   "cell_type": "markdown",
   "id": "0cd529de-6844-4637-ad59-c5f89c47c16a",
   "metadata": {},
   "source": [
    "### Generate table of results:"
   ]
  },
  {
   "cell_type": "code",
   "execution_count": null,
   "id": "e017dba8-2eab-419a-a22f-728ddfe7f617",
   "metadata": {},
   "outputs": [],
   "source": [
    "slope_table <- results_df_slope %>% \n",
    "    dplyr::rename(ROI = DKT, P_Age = PValue_Age, P_Condition = PValue_Condition, P_Interaction = PValue_Interaction)"
   ]
  },
  {
   "cell_type": "markdown",
   "id": "2d0e96a1-5c0a-41b3-b41c-99025c4a3811",
   "metadata": {},
   "source": [
    "### Apply FDR correction:"
   ]
  },
  {
   "cell_type": "code",
   "execution_count": null,
   "id": "d159e4f6-9102-4b57-bf89-cafff4fecffd",
   "metadata": {},
   "outputs": [],
   "source": [
    "results_df_slope$p_age_corrected <- p.adjust(results_df_slope$PValue_Age, method = 'fdr')\n",
    "results_df_slope$p_condition_corrected <- p.adjust(results_df_slope$PValue_Condition, method = 'fdr')\n",
    "results_df_slope$p_interaction_corrected <- p.adjust(results_df_slope$PValue_Interaction, method = 'fdr')"
   ]
  },
  {
   "cell_type": "markdown",
   "id": "bd8df5fd-7875-4d53-9129-337006bdbc59",
   "metadata": {},
   "source": [
    "### Save model results:"
   ]
  },
  {
   "cell_type": "code",
   "execution_count": null,
   "id": "36032013-c501-453c-a619-a8715cc98e6d",
   "metadata": {},
   "outputs": [],
   "source": [
    "dat_save <- paste(savdir, 'results_df_slope.csv', sep = '/')\n",
    "write.csv(results_df_slope, dat_save, row.names = FALSE)"
   ]
  },
  {
   "cell_type": "markdown",
   "id": "658a422c-26d4-4b70-8a59-413c4b9563aa",
   "metadata": {},
   "source": [
    "### Plot age effects:"
   ]
  },
  {
   "cell_type": "code",
   "execution_count": null,
   "id": "eb347fd9-aee7-4e6a-b105-387aa6e96cb2",
   "metadata": {},
   "outputs": [],
   "source": [
    "# age df for plotting\n",
    "age_df <- average_df %>% \n",
    "    select(subj, DKT, Slope, age) %>% \n",
    "    group_by(subj, DKT) %>% \n",
    "    summarise(Slope = mean(Slope), age = mean(age))\n",
    "\n",
    "# plot all DKT regions\n",
    "ggplot(age_df, aes(x = age, y = Slope)) + \n",
    "      geom_point(color = 'brown3', alpha = 0.6, size = 2) +  # change to brick red\n",
    "      geom_smooth(method = 'lm', linetype = 'solid', color = 'darkgray') +\n",
    "      geom_ribbon(aes(ymin = after_stat(ymin), ymax = after_stat(ymax)), stat = 'smooth', method = 'lm', fill = 'darkgray', alpha = 0.1) +\n",
    "      scale_color_viridis_c(option = 'magma') +\n",
    "      ylab('Aperiodic slope') + xlab ('Age [years]') +\n",
    "      theme_classic() +\n",
    "      facet_wrap(~DKT) +\n",
    "      theme(legend.position = 'none',\n",
    "            legend.spacing.x = unit(0.1, 'cm'),\n",
    "            legend.key.size = unit(0.5, 'cm'),\n",
    "            legend.background = element_rect(fill = alpha('blue', 0)),\n",
    "            legend.text = element_text(size = 8, colour = 'black'),\n",
    "            legend.title = element_text(size = 8, colour = 'black'),\n",
    "            strip.text.x = element_text(size = 8, colour = 'black'),\n",
    "            strip.text.y = element_text(size = 8, colour = 'black'),\n",
    "            axis.text = element_text(size = 8),\n",
    "            axis.title = element_text(size = 12),\n",
    "            plot.title = element_text(size = 8, face = 'bold'))"
   ]
  },
  {
   "cell_type": "markdown",
   "id": "1ad92686-117d-467b-bd20-d4ad55ca8cbb",
   "metadata": {},
   "source": [
    "### Plot age*attentional state effects:"
   ]
  },
  {
   "cell_type": "code",
   "execution_count": null,
   "id": "a5fbe390-e2ba-4748-80fa-6504fd7136ec",
   "metadata": {},
   "outputs": [],
   "source": [
    "# age df for plotting - keep condition separate\n",
    "age_df <- average_df %>%\n",
    "    select(subj, DKT, Slope, age, condition) %>% \n",
    "    group_by(subj, DKT, condition) %>% \n",
    "    summarise(Slope = mean(Slope), age = mean(age), .groups = 'drop')\n",
    "\n",
    "# plot all DKT regions with conditions\n",
    "ggplot(age_df, aes(x = age, y = Slope, color = condition)) + \n",
    "    geom_point(alpha = 0.6, size = 2) +\n",
    "    geom_smooth(method = 'lm', linetype = 'solid') +\n",
    "    geom_ribbon(aes(ymin = after_stat(ymin), ymax = after_stat(ymax), fill = condition), stat = 'smooth', method = 'lm', alpha = 0.1, color = NA) +\n",
    "    scale_color_manual(values = c('Task' = 'brown3', 'Rest' = 'darkgray')) +\n",
    "    scale_fill_manual(values = c('Task' = 'brown3', 'Rest' = 'darkgray')) +\n",
    "    ylab('Aperiodic slope') + xlab ('Age [years]') +\n",
    "    theme_classic() +\n",
    "        facet_wrap(~DKT) +\n",
    "        theme(legend.position = 'bottom',\n",
    "        legend.spacing.x = unit(0.1, 'cm'),\n",
    "        legend.key.size = unit(0.5, 'cm'),\n",
    "        legend.background = element_rect(fill = alpha('blue', 0)),\n",
    "        legend.text = element_text(size = 8, colour = 'black'),\n",
    "        legend.title = element_text(size = 8, colour = 'black'),\n",
    "        strip.text.x = element_text(size = 8, colour = 'black'),\n",
    "        strip.text.y = element_text(size = 8, colour = 'black'),\n",
    "        axis.text = element_text(size = 8),\n",
    "        axis.title = element_text(size = 12),\n",
    "        plot.title = element_text(size = 8, face = 'bold'))"
   ]
  },
  {
   "cell_type": "code",
   "execution_count": null,
   "id": "1eef3049-a7c6-427f-9803-e65ef15f1240",
   "metadata": {},
   "outputs": [],
   "source": []
  }
 ],
 "metadata": {
  "kernelspec": {
   "display_name": "R",
   "language": "R",
   "name": "ir"
  },
  "language_info": {
   "codemirror_mode": "r",
   "file_extension": ".r",
   "mimetype": "text/x-r-source",
   "name": "R",
   "pygments_lexer": "r",
   "version": "4.3.3"
  }
 },
 "nbformat": 4,
 "nbformat_minor": 5
}

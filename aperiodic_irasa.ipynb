{
  "cells": [
    {
      "cell_type": "markdown",
      "id": "30fdd4ed-e3cf-4505-9d03-15bc57bc86b3",
      "metadata": {
        "id": "30fdd4ed-e3cf-4505-9d03-15bc57bc86b3"
      },
      "source": [
        "### **aperiodic_irasa**\n",
        "\n",
        "Separate aperiodic activity from 1-60 Hz power spectra using the IRASA method, and compute the aperiodic slope and offset.\n",
        "\n",
        "IRASA described in: Wen, H, Liu, Z. Separating fractal and oscillatory components in the power spectrum of neurophysiological signal. *Brain Topography* 29 (2016). [https://doi.org/10.1007/s10548-015-0448-0](https://doi.org/10.1007/s10548-015-0448-0)\n",
        "\n",
        "Author: EL Johnson, PhD\n",
        "\n",
        "Copyright (c) 2022-2025  \n",
        "ZR Cross, PhD & EL Johnson, PhD"
      ]
    },
    {
      "cell_type": "markdown",
      "id": "cbfb6769-d63d-4bef-b7f1-bfdcce54b5ae",
      "metadata": {
        "id": "cbfb6769-d63d-4bef-b7f1-bfdcce54b5ae"
      },
      "source": [
        "### Import modules:"
      ]
    },
    {
      "cell_type": "code",
      "execution_count": null,
      "id": "3fdc7429-003e-4a88-880f-c9ade1f4e9fe",
      "metadata": {
        "id": "3fdc7429-003e-4a88-880f-c9ade1f4e9fe"
      },
      "outputs": [],
      "source": [
        "import numpy as np\n",
        "import pandas as pd\n",
        "import matplotlib.pyplot as plt\n",
        "from pathlib import Path\n",
        "import gdown\n",
        "\n",
        "!pip install mne\n",
        "import mne\n",
        "\n",
        "!pip install yasa\n",
        "import yasa"
      ]
    },
    {
      "cell_type": "markdown",
      "id": "10953248-06c9-4e0d-b8b2-52103f3aa1e2",
      "metadata": {
        "id": "10953248-06c9-4e0d-b8b2-52103f3aa1e2"
      },
      "source": [
        "### Download sample data file:"
      ]
    },
    {
      "cell_type": "code",
      "execution_count": null,
      "id": "67bf1e7e-3d36-4452-a9b8-5115fe038399",
      "metadata": {
        "id": "67bf1e7e-3d36-4452-a9b8-5115fe038399"
      },
      "outputs": [],
      "source": [
        "# download data from Google Drive\n",
        "output_path = 'NM01_new.mat-epo.fif.gz'\n",
        "fid = '1KBlYuFC8-K31LRf22ueaTliSrNZENwnZ'\n",
        "url = f'https://drive.google.com/uc?id={fid}'\n",
        "gdown.download(url, output_path, quiet = False)\n",
        "data_path = Path(output_path)"
      ]
    },
    {
      "cell_type": "markdown",
      "id": "0cb0708f-421f-42ff-9d6f-089be1d71d08",
      "metadata": {
        "id": "0cb0708f-421f-42ff-9d6f-089be1d71d08"
      },
      "source": [
        "### Read sample data file:"
      ]
    },
    {
      "cell_type": "code",
      "execution_count": null,
      "id": "20198ecb-fa00-4b0d-9165-d826793bc41d",
      "metadata": {
        "id": "20198ecb-fa00-4b0d-9165-d826793bc41d"
      },
      "outputs": [],
      "source": [
        "epochs = mne.read_epochs(data_path, preload = True)"
      ]
    },
    {
      "cell_type": "markdown",
      "id": "fc298773-9e68-43e4-92f0-31ebf9f3d689",
      "metadata": {
        "id": "fc298773-9e68-43e4-92f0-31ebf9f3d689"
      },
      "source": [
        "### Set subject ID and task:"
      ]
    },
    {
      "cell_type": "code",
      "execution_count": null,
      "id": "d805668c-93d1-4f04-b7b7-0bc37cb15b78",
      "metadata": {
        "id": "d805668c-93d1-4f04-b7b7-0bc37cb15b78"
      },
      "outputs": [],
      "source": [
        "sid = output_path.split('_')[0]  # extract subject ID from sample file ID\n",
        "task = 'WM'  # WM/Scene/Rest - the sample dataset is WM\n",
        "print(f'Ready to analyze subject {sid}.')"
      ]
    },
    {
      "cell_type": "markdown",
      "id": "2d78c91e-b589-479d-a593-505c47b33085",
      "metadata": {
        "id": "2d78c91e-b589-479d-a593-505c47b33085"
      },
      "source": [
        "### Extract info from the epoched data:"
      ]
    },
    {
      "cell_type": "code",
      "execution_count": null,
      "id": "8dfbd081-0577-44ec-be18-d98ab601acf0",
      "metadata": {
        "id": "8dfbd081-0577-44ec-be18-d98ab601acf0"
      },
      "outputs": [],
      "source": [
        "data = epochs.get_data(tmin = 0, tmax = 3)  # 0 to 3 s from stimulus onset\n",
        "sf = epochs.info['sfreq']  # sampling rate\n",
        "chan = epochs.ch_names  # channel names"
      ]
    },
    {
      "cell_type": "markdown",
      "id": "06621a05-64e7-478c-ab59-aeebe62225ab",
      "metadata": {
        "id": "06621a05-64e7-478c-ab59-aeebe62225ab"
      },
      "source": [
        "### Run IRASA:"
      ]
    },
    {
      "cell_type": "code",
      "execution_count": null,
      "id": "ba003b21-b01a-4831-87da-88979062dac9",
      "metadata": {
        "id": "ba003b21-b01a-4831-87da-88979062dac9"
      },
      "outputs": [],
      "source": [
        "# initialize data frames\n",
        "dfs = []\n",
        "psd_total = []\n",
        "df_aperiodic = []\n",
        "\n",
        "# loop through trials\n",
        "for idx in range(data.shape[0]):\n",
        "    freqs, psd_aperiodic, psd_osc, fit_params = yasa.irasa(data[idx, :, :], sf,\n",
        "                                                               ch_names = chan,\n",
        "                                                               band = (1, 60),\n",
        "                                                               win_sec = 1,\n",
        "                                                               return_fit = True)\n",
        "\n",
        "    # generate data frame for fit parameters\n",
        "    fit_params.insert(loc = 0, column = 'epoch', value = idx)  # add epoch column\n",
        "    fit_params['subj'] = sid  # add subject column\n",
        "    fit_params['task'] = task  # add task column\n",
        "    dfs.append(fit_params)  # append each epoch data frame\n",
        "\n",
        "    # append the PSD arrays\n",
        "    psd_total.append(psd_osc)\n",
        "\n",
        "    # generate data frame for aperiodic component\n",
        "    df_aperiodic_epoch = pd.DataFrame(psd_aperiodic)\n",
        "    df_aperiodic_epoch.insert(loc = 0, column = 'epoch', value = idx)\n",
        "    df_aperiodic_epoch['subj'] = sid  # add subject column\n",
        "    df_aperiodic_epoch['task'] = task  # add task column\n",
        "    df_aperiodic.append(df_aperiodic_epoch)  # append each epoch data frame"
      ]
    },
    {
      "cell_type": "markdown",
      "id": "939b125e-fffc-4971-87c0-9213ab6e6649",
      "metadata": {
        "id": "939b125e-fffc-4971-87c0-9213ab6e6649"
      },
      "source": [
        "### Save fit parameters:"
      ]
    },
    {
      "cell_type": "code",
      "execution_count": null,
      "id": "3ac7a082-46db-4f32-968c-687faba885d6",
      "metadata": {
        "id": "3ac7a082-46db-4f32-968c-687faba885d6"
      },
      "outputs": [],
      "source": [
        "df = pd.concat(dfs)\n",
        "df.to_csv(f'fit_params_trial_{sid}_{task}.csv', sep = ',', mode = 'a', header = True)\n",
        "df.head()  # show top of the saved table"
      ]
    },
    {
      "cell_type": "markdown",
      "id": "8db57b75-40ab-4620-92e8-529a9878cd17",
      "metadata": {
        "id": "8db57b75-40ab-4620-92e8-529a9878cd17"
      },
      "source": [
        "### Save aperiodic components:"
      ]
    },
    {
      "cell_type": "code",
      "execution_count": null,
      "id": "f1f5e8c1-0808-4b1e-b5d7-9588deae238b",
      "metadata": {
        "id": "f1f5e8c1-0808-4b1e-b5d7-9588deae238b"
      },
      "outputs": [],
      "source": [
        "df_aperiodic_df = pd.concat(df_aperiodic)\n",
        "df_aperiodic_df.to_csv(f'aperiodic_psd_trial_{sid}_{task}.csv', sep = ',', mode = 'a', header = True)\n",
        "df_aperiodic_df.head()  # show top of the saved table"
      ]
    },
    {
      "cell_type": "markdown",
      "id": "0046e0c6-2df3-451d-a41f-961598d34ce4",
      "metadata": {
        "id": "0046e0c6-2df3-451d-a41f-961598d34ce4"
      },
      "source": [
        "### Average fit parameters across trials and save:"
      ]
    },
    {
      "cell_type": "code",
      "execution_count": null,
      "id": "897f926c-de28-47d3-ae94-9404ebbaf3fc",
      "metadata": {
        "id": "897f926c-de28-47d3-ae94-9404ebbaf3fc"
      },
      "outputs": [],
      "source": [
        "df.set_index('Chan', inplace = True)\n",
        "cols_to_average = ['Intercept', 'Slope', 'R^2', 'std(osc)']\n",
        "df_mean = df.groupby(df.index)[cols_to_average].mean()\n",
        "df_mean['subj'] = sid\n",
        "df_mean['task'] = task\n",
        "df_mean.to_csv(f'fit_params_mean_{sid}_{task}.csv', sep = ',', mode = 'a', header = True)\n",
        "df_mean.head()  # show top of the saved table"
      ]
    },
    {
      "cell_type": "markdown",
      "id": "bb1f7f9b-8388-4e83-9c95-6819ef8865dc",
      "metadata": {
        "id": "bb1f7f9b-8388-4e83-9c95-6819ef8865dc"
      },
      "source": [
        "### Average aperiodic components across trials and save:"
      ]
    },
    {
      "cell_type": "code",
      "execution_count": null,
      "id": "dcd0e98d-249c-40c7-9756-781314b7f578",
      "metadata": {
        "id": "dcd0e98d-249c-40c7-9756-781314b7f578"
      },
      "outputs": [],
      "source": [
        "df_aperiodic_df.set_index(df.index, inplace = True)\n",
        "cols_to_average = df_aperiodic_df.columns[1:61]\n",
        "df_aperiodic_mean = df_aperiodic_df.groupby(df_aperiodic_df.index)[cols_to_average].mean()\n",
        "df_aperiodic_mean['subj'] = sid\n",
        "df_aperiodic_mean['task'] = task\n",
        "df_aperiodic_mean.to_csv(f'aperiodic_psd_mean_{sid}_{task}.csv', sep = ',', mode = 'a', header = True)\n",
        "df_aperiodic_mean.head()  # show top of the saved table"
      ]
    },
    {
      "cell_type": "markdown",
      "id": "f81a73d8-dd37-4c87-a0fe-4cc961cdb86c",
      "metadata": {
        "id": "f81a73d8-dd37-4c87-a0fe-4cc961cdb86c"
      },
      "source": [
        "### Plot the aperiodic component of the first channel:"
      ]
    },
    {
      "cell_type": "code",
      "execution_count": null,
      "id": "beb74367-80fe-4dee-bc42-8deab516f391",
      "metadata": {
        "id": "beb74367-80fe-4dee-bc42-8deab516f391"
      },
      "outputs": [],
      "source": [
        "dat = df_aperiodic_mean.iloc[0,:60].tolist()\n",
        "slope = f\"slope: {df_mean.loc[df_aperiodic_mean.index[0], 'Slope']:.3f}\"\n",
        "\n",
        "fig = plt.figure(figsize = (3, 3))\n",
        "plt.plot(freqs, dat, 'k', lw = 2.5, label = slope)\n",
        "plt.xlim(1, 60)\n",
        "plt.yscale('log')  # log scale\n",
        "plt.title(f'aperiodic component at {df_aperiodic_mean.index[0]}')\n",
        "plt.xlabel('frequency [Hz]')\n",
        "plt.ylabel('log(PSD)')\n",
        "plt.legend()\n",
        "plt.show()"
      ]
    },
    {
      "cell_type": "code",
      "source": [],
      "metadata": {
        "id": "TG3FzEB5AHuW"
      },
      "id": "TG3FzEB5AHuW",
      "execution_count": null,
      "outputs": []
    }
  ],
  "metadata": {
    "kernelspec": {
      "display_name": "Python 3 (ipykernel)",
      "language": "python",
      "name": "python3"
    },
    "language_info": {
      "codemirror_mode": {
        "name": "ipython",
        "version": 3
      },
      "file_extension": ".py",
      "mimetype": "text/x-python",
      "name": "python",
      "nbconvert_exporter": "python",
      "pygments_lexer": "ipython3",
      "version": "3.13.5"
    },
    "colab": {
      "provenance": []
    }
  },
  "nbformat": 4,
  "nbformat_minor": 5
}
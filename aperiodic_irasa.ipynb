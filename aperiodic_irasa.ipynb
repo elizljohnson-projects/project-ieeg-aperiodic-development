{
 "cells": [
  {
   "cell_type": "markdown",
   "id": "30fdd4ed-e3cf-4505-9d03-15bc57bc86b3",
   "metadata": {},
   "source": [
    "### **aperiodic_irasa**\n",
    "\n",
    "Separate aperiodic activity from 1-60 Hz power spectra using the IRASA method, and compute the aperiodic slope and offset (intercept). \n",
    "\n",
    "IRASA described in: Wen, H, Liu, Z. Separating fractal and oscillatory components in the power spectrum of neurophysiological signal. *Brain Topography* 29 (2016). [https://doi.org/10.1007/s10548-015-0448-0](https://doi.org/10.1007/s10548-015-0448-0) \n",
    "\n",
    "Author: EL Johnson, PhD\n",
    "\n",
    "Copyright (c) 2022-2025  \n",
    "ZR Cross, PhD & EL Johnson, PhD"
   ]
  },
  {
   "cell_type": "markdown",
   "id": "10953248-06c9-4e0d-b8b2-52103f3aa1e2",
   "metadata": {},
   "source": [
    "### Download the sample data file:\n",
    "[https://drive.google.com/file/d/1KBlYuFC8-K31LRf22ueaTliSrNZENwnZ/view?usp=sharing](https://drive.google.com/file/d/1KBlYuFC8-K31LRf22ueaTliSrNZENwnZ/view?usp=sharing)"
   ]
  },
  {
   "cell_type": "markdown",
   "id": "934d8357-d885-47cd-9e6c-16cefe37dfe1",
   "metadata": {},
   "source": [
    "### Set directories:"
   ]
  },
  {
   "cell_type": "code",
   "execution_count": null,
   "id": "67bf1e7e-3d36-4452-a9b8-5115fe038399",
   "metadata": {},
   "outputs": [],
   "source": [
    "datdir = 'C:\\\\Users\\\\elizl\\\\Downloads\\\\' # replace with your path to the downloaded data\n",
    "savdir = datdir # replace with your save path"
   ]
  },
  {
   "cell_type": "markdown",
   "id": "cbfb6769-d63d-4bef-b7f1-bfdcce54b5ae",
   "metadata": {},
   "source": [
    "### Import modules:"
   ]
  },
  {
   "cell_type": "code",
   "execution_count": null,
   "id": "004899cf-3ef6-4b21-a2ba-16ed872ad22a",
   "metadata": {},
   "outputs": [],
   "source": [
    "import os\n",
    "import glob\n",
    "\n",
    "!pip install mne\n",
    "import mne\n",
    "\n",
    "!pip install yasa\n",
    "import yasa\n",
    "\n",
    "# for compatibility with MNE\n",
    "!conda install -y -c conda-forge numpy=1.26.4 --force-reinstall\n",
    "import numpy as np\n",
    "\n",
    "import pandas as pd\n",
    "import matplotlib.pyplot as plt"
   ]
  },
  {
   "cell_type": "markdown",
   "id": "0cb0708f-421f-42ff-9d6f-089be1d71d08",
   "metadata": {},
   "source": [
    "### Read sample data file:"
   ]
  },
  {
   "cell_type": "code",
   "execution_count": null,
   "id": "20198ecb-fa00-4b0d-9165-d826793bc41d",
   "metadata": {},
   "outputs": [],
   "source": [
    "fid = 'NM01_new.mat-epo.fif.gz'\n",
    "fid_pth = os.path.join(datdir, fid)\n",
    "epochs = mne.read_epochs(fid_pth, preload=True)"
   ]
  },
  {
   "cell_type": "markdown",
   "id": "fc298773-9e68-43e4-92f0-31ebf9f3d689",
   "metadata": {},
   "source": [
    "### Extract subject ID and set task:"
   ]
  },
  {
   "cell_type": "code",
   "execution_count": null,
   "id": "d805668c-93d1-4f04-b7b7-0bc37cb15b78",
   "metadata": {},
   "outputs": [],
   "source": [
    "sid = fid.split('_')[0]\n",
    "task = 'WM' # WM/Scene/Rest - the sample dataset is WM\n",
    "print(f'Ready to process subject {sid}.')"
   ]
  },
  {
   "cell_type": "markdown",
   "id": "2d78c91e-b589-479d-a593-505c47b33085",
   "metadata": {},
   "source": [
    "### Extract info from the epoched data:"
   ]
  },
  {
   "cell_type": "code",
   "execution_count": null,
   "id": "8dfbd081-0577-44ec-be18-d98ab601acf0",
   "metadata": {},
   "outputs": [],
   "source": [
    "data = epochs.get_data(tmin = 0, tmax = 3) # 0 to 3 s after stimulus onset\n",
    "sf = epochs.info['sfreq'] # set sf as the sampling frequency\n",
    "chan = epochs.ch_names # define channel as ch_names"
   ]
  },
  {
   "cell_type": "markdown",
   "id": "06621a05-64e7-478c-ab59-aeebe62225ab",
   "metadata": {},
   "source": [
    "### Run IRASA:"
   ]
  },
  {
   "cell_type": "code",
   "execution_count": null,
   "id": "ba003b21-b01a-4831-87da-88979062dac9",
   "metadata": {},
   "outputs": [],
   "source": [
    "# initialize data frames\n",
    "dfs = []\n",
    "psd_total = []\n",
    "df_aperiodic = []\n",
    "\n",
    "# loop through trials\n",
    "for idx in range(data.shape[0]):\n",
    "    freqs, psd_aperiodic, psd_osc, fit_params = yasa.irasa(data[idx, :, :], sf, \n",
    "                                                               ch_names = chan, \n",
    "                                                               band = (1, 60), \n",
    "                                                               win_sec = 1, \n",
    "                                                               return_fit = True)\n",
    "    \n",
    "    # generate data frames required for later analysis\n",
    "    fit_params.insert(loc = 0, column = 'epoch', value = idx) # add epoch column\n",
    "    fit_params['subj'] = sid # add subject column\n",
    "    fit_params['task'] = task # add task column\n",
    "    dfs.append(fit_params) # append each epoch data frame\n",
    "    \n",
    "    # append the PSD arrays\n",
    "    psd_total.append(psd_osc)\n",
    "    \n",
    "    # generate data frame for aperiodic component\n",
    "    df_aperiodic_epoch = pd.DataFrame(psd_aperiodic)\n",
    "    df_aperiodic_epoch.insert(loc = 0, column = 'epoch', value = idx)\n",
    "    df_aperiodic_epoch['subj'] = sid # add subject column\n",
    "    df_aperiodic_epoch['task'] = task # add task column\n",
    "    df_aperiodic.append(df_aperiodic_epoch) # add subject column"
   ]
  },
  {
   "cell_type": "markdown",
   "id": "939b125e-fffc-4971-87c0-9213ab6e6649",
   "metadata": {},
   "source": [
    "### Save fit parameters:"
   ]
  },
  {
   "cell_type": "code",
   "execution_count": null,
   "id": "3ac7a082-46db-4f32-968c-687faba885d6",
   "metadata": {},
   "outputs": [],
   "source": [
    "df = pd.concat(dfs)\n",
    "df.to_csv(f'{savdir}fit_params_{sid}_{task}.csv', sep = ',', mode = 'a', header = True)\n",
    "df.head() # show top of the saved table"
   ]
  },
  {
   "cell_type": "markdown",
   "id": "d733a4df-c149-4ce5-b34c-42740fb332f1",
   "metadata": {},
   "source": [
    "### Save aperiodic components:"
   ]
  },
  {
   "cell_type": "code",
   "execution_count": null,
   "id": "85e0ec46-9caf-4bd2-a260-1eb91f760961",
   "metadata": {},
   "outputs": [],
   "source": [
    "df_aperiodic_df = pd.concat(df_aperiodic)\n",
    "df.to_csv(f'{savdir}psd_aperiodic_{sid}_{task}.csv', sep = ',', mode = 'a', header = True)\n",
    "df_aperiodic_df.head() # show top of the saved table"
   ]
  },
  {
   "cell_type": "markdown",
   "id": "15811459-3587-439a-9064-7e86b936d146",
   "metadata": {},
   "source": [
    "### Plot the aperiodic component for a sample channel:"
   ]
  },
  {
   "cell_type": "code",
   "execution_count": null,
   "id": "8bf7dc91-70ce-4a6e-976e-3266000c069b",
   "metadata": {},
   "outputs": [],
   "source": [
    "plt.plot(freqs, psd_aperiodic[2, :], 'k', lw = 2.5)\n",
    "#plt.fill_between(freqs, psd_aperiodic[2, :], cmap = 'Spectral')\n",
    "plt.xlim(1, 60)\n",
    "plt.yscale('log') # log-log space\n",
    "plt.title('Aperiodic component at ' + chan[0], fontsize = 15)\n",
    "plt.xlabel('Frequency [Hz]',fontsize = 15)\n",
    "plt.ylabel('PSD log [$uV^2$/Hz]',fontsize = 15)"
   ]
  },
  {
   "cell_type": "code",
   "execution_count": null,
   "id": "693a3240-a1cc-4813-9893-9f1ecb9b3a7f",
   "metadata": {},
   "outputs": [],
   "source": []
  }
 ],
 "metadata": {
  "kernelspec": {
   "display_name": "Python [conda env:base] *",
   "language": "python",
   "name": "conda-base-py"
  },
  "language_info": {
   "codemirror_mode": {
    "name": "ipython",
    "version": 3
   },
   "file_extension": ".py",
   "mimetype": "text/x-python",
   "name": "python",
   "nbconvert_exporter": "python",
   "pygments_lexer": "ipython3",
   "version": "3.12.3"
  }
 },
 "nbformat": 4,
 "nbformat_minor": 5
}

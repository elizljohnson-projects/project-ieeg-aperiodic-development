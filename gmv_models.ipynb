{
 "cells": [
  {
   "cell_type": "markdown",
   "id": "0b16dfb2-706e-4b20-b3dc-ce236e95df5e",
   "metadata": {},
   "source": [
    "### **gmv_models**\n",
    "\n",
    "Run hierarchical models on project data:\n",
    "- Test hypothesis (d), that age-related differences in aperiodic activity are modulated by regional gray matter volume.\n",
    "\n",
    "Author: EL Johnson, PhD\n",
    "\n",
    "Copyright (c) 2022-2025  \n",
    "ZR Cross, PhD & EL Johnson, PhD"
   ]
  },
  {
   "cell_type": "markdown",
   "id": "dfbdc1d0-b1ef-4a18-8c2c-d63973a911f8",
   "metadata": {},
   "source": [
    "### Set directories:"
   ]
  },
  {
   "cell_type": "code",
   "execution_count": 449,
   "id": "c3f77fb8-8a56-4551-bef5-dfe024386199",
   "metadata": {},
   "outputs": [],
   "source": [
    "pth <- getwd() # navigate to directory containing folders of downloaded data\n",
    "datdir_gmv <- paste(getwd(), 'volume_stats', sep = '/')\n",
    "datdir_demo <- paste(pth, 'Preprocessed_data', sep = '/')\n",
    "savdir <- datdir_demo # replace with your save path"
   ]
  },
  {
   "cell_type": "markdown",
   "id": "f6f12b2d-82be-422b-864c-a0e54f131230",
   "metadata": {},
   "source": [
    "### Load packages:  \n",
    "If lme4 needs to be installed, run on the Anaconda command line:  \n",
    "conda install -c conda-forge r-lme4"
   ]
  },
  {
   "cell_type": "code",
   "execution_count": 450,
   "id": "49c514e6-b456-4aa3-a868-19f8d28ca03f",
   "metadata": {},
   "outputs": [],
   "source": [
    "library(tidyverse)\n",
    "library(RColorBrewer)\n",
    "library(broom)\n",
    "library(lme4)\n",
    "library(splines)"
   ]
  },
  {
   "cell_type": "markdown",
   "id": "d4701a66-8976-419b-8065-147cac67d451",
   "metadata": {},
   "source": [
    "### Build outlier detection function:"
   ]
  },
  {
   "cell_type": "code",
   "execution_count": 451,
   "id": "d36ace5b-f799-4847-b1a3-4b438743bcba",
   "metadata": {},
   "outputs": [],
   "source": [
    "outlierKD <- function(dt, var) {\n",
    "    var_name <- eval(substitute(var),eval(dt))\n",
    "    tot <- sum(!is.na(var_name))\n",
    "    na1 <- sum(is.na(var_name))\n",
    "    m1 <- mean(var_name, na.rm = T)\n",
    "    par(mfrow=c(2, 2), oma=c(0,0,3,0))\n",
    "    boxplot(var_name, main='With outliers')\n",
    "    hist(var_name, main='With outliers', xlab=NA, ylab=NA)\n",
    "    outlier <- boxplot.stats(var_name)$out\n",
    "    mo <- mean(outlier)\n",
    "    var_name <- ifelse(var_name %in% outlier, NA, var_name)\n",
    "    boxplot(var_name, main='Without outliers')\n",
    "    hist(var_name, main='Without outliers', xlab=NA, ylab=NA)\n",
    "    title('Outlier check', outer=TRUE)\n",
    "    na2 <- sum(is.na(var_name))\n",
    "    message('Outliers identified: ', na2 - na1, ' from ', tot, ' observations')\n",
    "    message('Proportion (%) of outliers: ', (na2 - na1) / tot*100)\n",
    "    message('Mean of the outliers: ', mo)\n",
    "    m2 <- mean(var_name, na.rm = T)\n",
    "    message('Mean without removing outliers: ', m1)\n",
    "    message('Mean if we remove outliers: ', m2)\n",
    "    response <- readline(prompt='Do you want to remove outliers and to replace with NA? [yes/no]: ')\n",
    "  \n",
    "    if(response == 'y' | response == 'yes'){\n",
    "        dt[as.character(substitute(var))] <- invisible(var_name)\n",
    "        assign(as.character(as.list(match.call())$dt), dt, envir = .GlobalEnv)\n",
    "        message('Outliers successfully removed', '\\n')\n",
    "        return(invisible(dt))\n",
    "    } else{\n",
    "        message('Nothing changed', '\\n')\n",
    "        return(invisible(var_name))\n",
    "    }\n",
    "}\n",
    "\n",
    "remove_outliers_tukey <- function(x) {\n",
    "    qnt <- quantile(x, probs=c(.25, .75), na.rm = TRUE)\n",
    "    H <- 1.5 * IQR(x, na.rm = TRUE)\n",
    "    outliers <- sum(x < (qnt[1] - H) | x > (qnt[2] + H), na.rm = TRUE)\n",
    "    x[x < (qnt[1] - H)] <- NA\n",
    "    x[x > (qnt[2] + H)] <- NA\n",
    "    return(list(data = x, outliers = outliers))\n",
    "}"
   ]
  },
  {
   "cell_type": "markdown",
   "id": "80843b16-2d66-4c52-b4c5-7c5c7fa3bda6",
   "metadata": {},
   "source": [
    "### Load GMV estimates:"
   ]
  },
  {
   "cell_type": "code",
   "execution_count": 452,
   "id": "f35e2af3-90be-4d3c-aec2-a4c323ec61aa",
   "metadata": {},
   "outputs": [],
   "source": [
    "# function to read freesurfer stats files\n",
    "read_fs_stats <- function(filepath) {\n",
    "      lines <- readLines(filepath)\n",
    "      \n",
    "      # find the data section (lines that don't start with #)\n",
    "      data_lines <- lines[!grepl('^#', lines)]\n",
    "      \n",
    "      # remove empty lines\n",
    "      data_lines <- data_lines[data_lines != '']\n",
    "      \n",
    "      # parse into data frame\n",
    "      if(length(data_lines) > 0) {\n",
    "            df <- read.table(text = paste(data_lines, collapse = '\\n'),\n",
    "                             header = FALSE, \n",
    "                             stringsAsFactors = FALSE,\n",
    "                             col.names = c('StructName', 'NumVert', 'SurfArea', 'GrayVol', \n",
    "                                           'ThickAvg', 'ThickStd', 'MeanCurv', 'GausCurv', \n",
    "                                           'FoldInd', 'CurvInd'))\n",
    "          return(df)\n",
    "          }\n",
    "    return(data.frame())\n",
    "}\n",
    "\n",
    "# read files\n",
    "stats_files <- list.files(datdir_gmv, pattern = 'aparc.DKTatlas.stats$', full.names = TRUE, recursive = TRUE)\n",
    "dat_list <- lapply(stats_files, read_fs_stats)\n",
    "\n",
    "# combine with subject IDs extracted from filename\n",
    "dat <- do.call(rbind, lapply(seq_along(dat_list), function(i) {\n",
    "    df <- dat_list[[i]]\n",
    "    fid <- basename(stats_files[i])\n",
    "    df$subj <- sub('_.*', '', fid)\n",
    "    return(df)\n",
    "}))"
   ]
  },
  {
   "cell_type": "markdown",
   "id": "31144e62-211a-447b-af97-30da1889add7",
   "metadata": {},
   "source": [
    "### Combine into DKT regions:"
   ]
  },
  {
   "cell_type": "code",
   "execution_count": 453,
   "id": "d15525fa-a9ca-4b9d-ac03-32c85ae59d5c",
   "metadata": {},
   "outputs": [],
   "source": [
    "# average over ROIs\n",
    "average_gray_vol <- dat %>% \n",
    "    select(subj, GrayVol, StructName, ThickAvg) %>%\n",
    "    group_by(subj, StructName) %>%\n",
    "    dplyr::summarise(gmv = mean(GrayVol), thick = mean(ThickAvg))\n",
    "ggseg_roi <- as.data.frame(unique(average_gray_vol$StructName))\n",
    "\n",
    "# reStructName StructName to DKT\n",
    "filtered_df <- average_gray_vol %>% \n",
    "      rename(DKT = StructName)"
   ]
  },
  {
   "cell_type": "code",
   "execution_count": 454,
   "id": "c18670c6-c904-417a-b039-2475659f962f",
   "metadata": {},
   "outputs": [],
   "source": [
    "# specify the levels of DKT to duplicate and their corresponding new StructNames\n",
    "levels_to_duplicate <- c('cuneus',                   # 2\n",
    "                         'entorhinal',               # 3\n",
    "                         'isthmuscingulate',         # 4\n",
    "                         'lingual',                  # 5\n",
    "                         'paracentral',              # 6\n",
    "                         'parsopercularis',          # 7\n",
    "                         'parsorbitalis',            # 8\n",
    "                         'parstriangularis',         # 9\n",
    "                         'pericalcarine',            # 10\n",
    "                         'precuneus',                # 11\n",
    "                         'rostralanteriorcingulate', # 12\n",
    "                         'superiorfrontal',          # 13\n",
    "                         'supramarginal',            # 14\n",
    "                         'transversetemporal',       # 15\n",
    "                         'caudalanteriorcingulate',  # 16\n",
    "                         'caudalmiddlefrontal',      # 17\n",
    "                         'fusiform',                 # 18\n",
    "                         'inferiorparietal',         # 19\n",
    "                         'inferiortemporal',         # 20\n",
    "                         'insula',                   # 21\n",
    "                         'lateraloccipital',         # 22\n",
    "                         'lateralorbitofrontal',     # 23\n",
    "                         'medialorbitofrontal',      # 24\n",
    "                         'middletemporal',           # 25\n",
    "                         'parahippocampal',          # 26\n",
    "                         'postcentral',              # 27\n",
    "                         'posteriorcingulate',       # 28\n",
    "                         'precentral',               # 29\n",
    "                         'rostralmiddlefrontal',     # 30\n",
    "                         'superiorparietal',         # 31\n",
    "                         'superiortemporal',         # 32\n",
    "                         'temporalpole'              # 33\n",
    "                         )                         \n",
    "\n",
    "new_StructNames <- c('lateral occipital',                 # 2\n",
    "                'parahippocampal',                   # 3\n",
    "                'posterior cingulate',               # 4\n",
    "                'lateral occipital',                 # 5\n",
    "                'precentral',                        # 6\n",
    "                'inferior frontal',                  # 7\n",
    "                'inferior frontal',                  # 8\n",
    "                'inferior frontal',                  # 9\n",
    "                'lateral occipital',                 # 10\n",
    "                'superior parietal',                 # 11\n",
    "                'caudal anterior cingulate',         # 12\n",
    "                'caudal middle frontal',             # 13\n",
    "                'superior parietal',                 # 14\n",
    "                'superior temporal' ,                # 15\n",
    "                'caudal anterior cingulate',         # 16\n",
    "                'caudal middle frontal',             # 17\n",
    "                'fusiform',                          # 18\n",
    "                'inferior parietal',                 # 19\n",
    "                'inferior temporal',                 # 20\n",
    "                'insula',                            # 21\n",
    "                'lateral occipital',                 # 22\n",
    "                'lateral orbitofrontal',             # 23\n",
    "                'medial orbitofrontal',              # 24\n",
    "                'middle temporal',                   # 25\n",
    "                'parahippocampal',                   # 26\n",
    "                'postcentral',                       # 27\n",
    "                'posterior cingulate',               # 28\n",
    "                'precentral',                        # 29\n",
    "                'rostral middle frontal',            # 30\n",
    "                'superior parietal',                 # 31\n",
    "                'superior temporal',                 # 32\n",
    "                'superior temporal'                  # 33\n",
    "                )"
   ]
  },
  {
   "cell_type": "code",
   "execution_count": 455,
   "id": "0d3a13ec-482d-4820-a542-889b1ebb0360",
   "metadata": {},
   "outputs": [],
   "source": [
    "# create a data frame with levels to duplicate and their corresponding new StructNames\n",
    "df_StructNames <- tibble(DKT = levels_to_duplicate, new_StructName = new_StructNames)\n",
    "\n",
    "# duplicate the entire data frame\n",
    "df_duplicated_dkt <- bind_rows(replicate(3, filtered_df, simplify = FALSE))\n",
    "\n",
    "# filter rows that need duplication, adjust DKT column and other columns accordingly\n",
    "df_duplicated_dkt <- df_duplicated_dkt %>%\n",
    "    mutate(duplicate = row_number()) %>%\n",
    "    left_join(df_StructNames, by = 'DKT') %>%\n",
    "    mutate(DKT = ifelse(!is.na(new_StructName), new_StructName, DKT)) %>%\n",
    "    select(-new_StructName) %>%\n",
    "    filter(!is.na(duplicate)) %>%\n",
    "    group_by(duplicate) %>%\n",
    "    slice(rep(1:n(), each = 3)) %>%\n",
    "    ungroup() %>%\n",
    "    select(-duplicate)"
   ]
  },
  {
   "cell_type": "code",
   "execution_count": 456,
   "id": "fa314dcc-ee96-4b1b-8b75-c2e170655c1c",
   "metadata": {},
   "outputs": [],
   "source": [
    "# calculate the mean of values for each group of duplicated rows\n",
    "df_means <- df_duplicated_dkt %>%\n",
    "    group_by(DKT, subj) %>%\n",
    "    summarise(gmv = mean(gmv, na.rm = TRUE)) %>%\n",
    "    ungroup()"
   ]
  },
  {
   "cell_type": "markdown",
   "id": "490cb2c4-bb66-44a1-a49c-2eba88d515d5",
   "metadata": {},
   "source": [
    "### Join with the aperiodic slope data:"
   ]
  },
  {
   "cell_type": "code",
   "execution_count": 457,
   "id": "c843c233-c0ce-4d86-8261-5ffbf369aa4f",
   "metadata": {},
   "outputs": [],
   "source": [
    "dat_load <- paste(datdir_demo, 'aperiodic_slope_models.csv', sep = '/')\n",
    "df <- read.csv(dat_load, header = T) %>%\n",
    "    select(subj, realID, DKT, brodmann, sex, Slope, Offset, age, R.2, task) %>%\n",
    "    group_by(subj, realID, DKT, brodmann, sex, task) %>% \n",
    "    filter(R.2 >= .90) %>% \n",
    "    summarise_all(list(mean), na.rm = FALSE)"
   ]
  },
  {
   "cell_type": "markdown",
   "id": "96f94b57-2fee-4ea5-987a-50399b6c6661",
   "metadata": {},
   "source": [
    "### Remove slope outliers:"
   ]
  },
  {
   "cell_type": "code",
   "execution_count": 458,
   "id": "459e5516-0864-48a3-987a-ada2cb47b15f",
   "metadata": {},
   "outputs": [
    {
     "name": "stderr",
     "output_type": "stream",
     "text": [
      "Outliers identified: 11 from 6911 observations\n",
      "Proportion (%) of outliers: 0.15916654608595\n",
      "Mean of the outliers: 1.04319787180624\n",
      "Mean without removing outliers: 2.12290870946178\n",
      "Mean if we remove outliers: 2.12462998760877\n"
     ]
    },
    {
     "name": "stdin",
     "output_type": "stream",
     "text": [
      "Do you want to remove outliers and to replace with NA? [yes/no]:  yes\n"
     ]
    },
    {
     "name": "stderr",
     "output_type": "stream",
     "text": [
      "Outliers successfully removed\n",
      "\n"
     ]
    },
    {
     "data": {
      "image/png": "[encoded data removed]",
      "text/plain": [
       "Plot with title \"Outlier check\""
      ]
     },
     "metadata": {},
     "output_type": "display_data"
    }
   ],
   "source": [
    "average_df <- df %>%\n",
    "      dplyr::group_by(DKT) %>%\n",
    "      dplyr::mutate(\n",
    "          Slope_no_outliers = remove_outliers_tukey(Slope)$data,\n",
    "          ) %>%\n",
    "ungroup()\n",
    "\n",
    "# overwrite original aperiodic columns with the outliers removed\n",
    "average_df$Slope <- average_df$Slope_no_outliers\n",
    "outlierKD(average_df, Slope)"
   ]
  },
  {
   "cell_type": "markdown",
   "id": "c1e77f1f-7c58-4efa-88f3-9ac4a20de540",
   "metadata": {},
   "source": [
    "### Final data frame:"
   ]
  },
  {
   "cell_type": "code",
   "execution_count": 459,
   "id": "478c28d9-4d1c-4255-9899-805545b9dd0c",
   "metadata": {},
   "outputs": [],
   "source": [
    "full_data <- left_join(average_df, df_means, by = c('subj', 'DKT')) %>%\n",
    "      filter(DKT != 'Other') %>%\n",
    "      select(subj, realID, Slope, Offset, gmv, age, task, DKT, sex) %>%\n",
    "      ungroup() %>%\n",
    "      group_by(subj, realID, task, DKT, sex) %>%\n",
    "      summarise_all(funs(mean), na.rm = FALSE)"
   ]
  },
  {
   "cell_type": "markdown",
   "id": "48e6d442-4892-4701-84d0-52e3a363dac5",
   "metadata": {},
   "source": [
    "### Fix parahippocampal data:"
   ]
  },
  {
   "cell_type": "code",
   "execution_count": 460,
   "id": "c0c4416a-5740-423c-9024-ab6d56d16ad3",
   "metadata": {},
   "outputs": [
    {
     "name": "stderr",
     "output_type": "stream",
     "text": [
      "Adding missing grouping variables: `realID`, `task`\n"
     ]
    }
   ],
   "source": [
    "# group by 'subj' and 'DKT', and find the unique 'parahippocampal' gmv value for each 'subj'\n",
    "parahippocampal_gmv <- full_data %>%\n",
    "      dplyr::select(subj, DKT, gmv) %>% \n",
    "      dplyr::filter(DKT == 'parahippocampal') %>%\n",
    "      dplyr::group_by(subj) %>%\n",
    "      summarize(parahippocampal_gmv = unique(gmv))\n",
    "\n",
    "# merge the parahippocampal gmv values with the original data frame\n",
    "full_data <- full_data %>%\n",
    "      left_join(parahippocampal_gmv, by = 'subj') %>%\n",
    "      mutate(gmv = ifelse(DKT %in% c('hippocampus', 'amygdala'), parahippocampal_gmv, gmv)) %>%\n",
    "      select(-parahippocampal_gmv)  # remove the auxiliary column\n",
    "\n",
    "# ensure gmv values are not overwritten for parahippocampal\n",
    "full_data$gmv[full_data$DKT == 'parahippocampal'] <- full_data$gmv[full_data$DKT == 'parahippocampal']  # just to be explicit"
   ]
  },
  {
   "cell_type": "markdown",
   "id": "a224d755-c03d-4bbd-ab25-552799d3f350",
   "metadata": {},
   "source": [
    "### Factorize variables:"
   ]
  },
  {
   "cell_type": "code",
   "execution_count": 461,
   "id": "41426484-5447-40a5-90e7-ab84af48a5b5",
   "metadata": {},
   "outputs": [],
   "source": [
    "full_data$subj <- as.factor(full_data$subj)\n",
    "full_data$realID <- as.factor(full_data$realID)\n",
    "full_data$DKT <- as.factor(full_data$DKT)\n",
    "full_data$task <- as.factor(full_data$task)\n",
    "full_data$sex <- as.factor(full_data$sex)"
   ]
  },
  {
   "cell_type": "markdown",
   "id": "7da8ad8d-a584-4a04-8abe-de34f600dff1",
   "metadata": {},
   "source": [
    "### Remove GMV outliers:"
   ]
  },
  {
   "cell_type": "code",
   "execution_count": 462,
   "id": "37de4b5f-96fd-4701-9ac3-b096e62c87fe",
   "metadata": {},
   "outputs": [],
   "source": [
    "# run this for generating the plots at the end of the script\n",
    "full_data2 <- full_data2 %>%\n",
    "      dplyr::group_by(DKT) %>%\n",
    "      dplyr::mutate(\n",
    "        gmv_no_outliers = remove_outliers_tukey(gmv)$data,\n",
    "        gmv_outliers_removed = remove_outliers_tukey(gmv)$outliers\n",
    "          ) %>%\n",
    "ungroup()\n",
    "\n",
    "# overwrite original aperiodic columns with the outliers removed\n",
    "full_data2$gmv <- full_data2$gmv\n",
    "\n",
    "# run this for formal statistics\n",
    "full_data <- full_data %>% \n",
    "  filter(DKT != 'subcortical' & task != 'Rest')"
   ]
  },
  {
   "cell_type": "markdown",
   "id": "e522c623-9c64-4a5b-9b17-d37905401e8c",
   "metadata": {},
   "source": [
    "### Plot GMV by age:"
   ]
  },
  {
   "cell_type": "code",
   "execution_count": 463,
   "id": "2f6dcb4a-ff36-4195-a9fe-6aff6b15a2b0",
   "metadata": {},
   "outputs": [],
   "source": [
    "# join age data to gmv information\n",
    "age_data <- average_df %>%\n",
    "    select(subj, age) %>% \n",
    "      group_by(subj) %>% \n",
    "      summarise(age = mean(age))\n",
    "gray_data <- left_join(average_gray_vol, age_data, by = 'subj')"
   ]
  },
  {
   "cell_type": "code",
   "execution_count": 464,
   "id": "277b7ed4-2b93-4258-acce-1e8d188f3b21",
   "metadata": {},
   "outputs": [
    {
     "data": {
      "image/png": "[encoded data removed]",
      "text/plain": [
       "plot without title"
      ]
     },
     "metadata": {},
     "output_type": "display_data"
    }
   ],
   "source": [
    "ggplot(gray_data %>% filter(StructName != 'temporalpole'), aes(x = age, y = gmv, color = age)) +\n",
    "    geom_point(shape = 16, size = 2, show.legend = FALSE, alpha = 0.5, position = position_jitter(width = 0.2)) + \n",
    "    xlab('Age [years]') + ylab ('GMV [mm3]') +\n",
    "      theme_light() +\n",
    "      facet_wrap(~StructName) +\n",
    "      geom_smooth(method = 'lm', linetype = 'solid', colour = 'gray', fill = 'NA') +\n",
    "      scale_color_viridis_c(option = 'magma') +\n",
    "      scale_x_continuous(limits = c(5, 55), breaks = seq(5, 55, by = 7)) +\n",
    "      scale_y_continuous(breaks = scales::pretty_breaks(n = 5)) +\n",
    "      theme(legend.position='none',\n",
    "            legend.spacing.x = unit(0.2, 'cm'),\n",
    "            legend.key.size = unit(0.4, 'cm'),\n",
    "            legend.background = element_rect(fill=alpha('blue', 0)),\n",
    "            legend.text = element_text(size = 8, colour = 'black'),\n",
    "            legend.title = element_text(size = 8, colour = 'black', face = 'bold'), \n",
    "            strip.text.x = element_text(size = 8, colour = 'black'),\n",
    "            strip.text.y = element_text(size = 8, colour = 'black'),\n",
    "            axis.text = element_text(size = 8),\n",
    "            axis.title = element_text(size = 12),\n",
    "            plot.title = element_text(size = 8, face = 'bold'),\n",
    "            panel.grid.major = element_blank(),\n",
    "            panel.grid.minor = element_blank(),\n",
    "            panel.border = element_blank(),\n",
    "            axis.line = element_line(color = 'black'),\n",
    "            axis.line.y.right = element_blank(),\n",
    "            axis.line.x.top = element_blank())"
   ]
  },
  {
   "cell_type": "markdown",
   "id": "0050bedb-d21f-4a40-8c46-830fd70f9de6",
   "metadata": {},
   "source": [
    "### Add additional age data for analysis of total GMV:"
   ]
  },
  {
   "cell_type": "code",
   "execution_count": 465,
   "id": "febabec7-7fc2-4db8-a0e3-b69ad3b7746c",
   "metadata": {},
   "outputs": [],
   "source": [
    "dat_load = paste(datdir_demo, 'additional_ages.csv', sep = '/')\n",
    "additional_ages <- read.csv(dat_load)\n",
    "colnames(additional_ages)[1] <- 'subj'\n",
    "\n",
    "# summarise across all regions\n",
    "average_gmv_scatter <- gray_data %>%\n",
    "    dplyr::select(subj, gmv, age, thick) %>% \n",
    "    dplyr::ungroup() %>% \n",
    "    dplyr::group_by(subj) %>% \n",
    "    dplyr::summarise_all(funs(mean), na.rm = FALSE)\n",
    "\n",
    "average_gmv_scatter <- average_gmv_scatter %>%\n",
    "    left_join(additional_ages, by = 'subj') %>%\n",
    "    mutate(age = coalesce(age.x, age.y)) %>%\n",
    "    select(-age.x, -age.y)"
   ]
  },
  {
   "cell_type": "markdown",
   "id": "aad2d1a2-b643-40aa-8911-cde4250eda57",
   "metadata": {},
   "source": [
    "### Remove outliers from total GMV:"
   ]
  },
  {
   "cell_type": "code",
   "execution_count": 466,
   "id": "d7f933ec-8cba-460b-ba34-008b500d9ed5",
   "metadata": {},
   "outputs": [
    {
     "name": "stderr",
     "output_type": "stream",
     "text": [
      "Outliers identified: 2 from 83 observations\n",
      "Proportion (%) of outliers: 2.40963855421687\n",
      "Mean of the outliers: 3826.53225806452\n",
      "Mean without removing outliers: 8082.41296638166\n",
      "Mean if we remove outliers: 8187.49644066109\n"
     ]
    },
    {
     "name": "stdin",
     "output_type": "stream",
     "text": [
      "Do you want to remove outliers and to replace with NA? [yes/no]:  yes\n"
     ]
    },
    {
     "name": "stderr",
     "output_type": "stream",
     "text": [
      "Outliers successfully removed\n",
      "\n"
     ]
    },
    {
     "data": {
      "image/png": "[encoded data removed]",
      "text/plain": [
       "Plot with title \"Outlier check\""
      ]
     },
     "metadata": {},
     "output_type": "display_data"
    }
   ],
   "source": [
    "outlierKD(average_gmv_scatter, gmv)"
   ]
  },
  {
   "cell_type": "markdown",
   "id": "ee221d6b-5be9-4ccb-b1bb-39b957c9867e",
   "metadata": {},
   "source": [
    "### Plot total GMV by age:"
   ]
  },
  {
   "cell_type": "code",
   "execution_count": 467,
   "id": "3030ae23-c971-49cd-8ce7-24560d4a6e06",
   "metadata": {},
   "outputs": [
    {
     "data": {
      "image/png": "[encoded data removed]",
      "text/plain": [
       "plot without title"
      ]
     },
     "metadata": {},
     "output_type": "display_data"
    }
   ],
   "source": [
    "ggplot(average_gmv_scatter, aes(x = age, y = gmv, color = age)) + \n",
    "    geom_point(shape = 16, size = 5, show.legend = FALSE, alpha = 0.5, position = position_jitter(width = 0.2)) +\n",
    "      xlab('Age [years]') + ylab ('GMV [mm3]') +\n",
    "      theme_light() +\n",
    "      geom_smooth(method = 'lm', linetype = 'solid', colour = 'gray', fill = 'gray') +\n",
    "      scale_color_viridis_c(option = 'magma') +\n",
    "      scale_x_continuous(limits = c(5, 55), breaks = seq(5, 55, by = 7)) +\n",
    "      scale_y_continuous(breaks = scales::pretty_breaks(n = 7)) +\n",
    "      theme(legend.position='none',\n",
    "            legend.spacing.x = unit(0.2, 'cm'),\n",
    "            legend.key.size = unit(0.4, 'cm'),\n",
    "            legend.background = element_rect(fill=alpha('blue', 0)),\n",
    "            legend.text = element_text(size = 16, colour = 'black'),\n",
    "            legend.title = element_text(size = 16, colour = 'black', face = 'bold'), \n",
    "            strip.text.x = element_text(size = 18, colour = 'black'),\n",
    "            strip.text.y = element_text(size = 18, colour = 'black'),\n",
    "            axis.text = element_text(size = 18),\n",
    "            axis.title = element_text(size = 18),\n",
    "            plot.title = element_text(size = 16, face = 'bold'),\n",
    "            panel.grid.major = element_blank(),\n",
    "            panel.grid.minor = element_blank(),\n",
    "            panel.border = element_blank(),\n",
    "            axis.line = element_line(color = 'black'),\n",
    "            axis.line.y.right = element_blank(),\n",
    "            axis.line.x.top = element_blank())"
   ]
  },
  {
   "cell_type": "markdown",
   "id": "29afd239-fceb-4aa5-82d9-873d07b031d8",
   "metadata": {},
   "source": [
    "### Run linear regression for GMV by age:"
   ]
  },
  {
   "cell_type": "code",
   "execution_count": 468,
   "id": "1f562ff4-88a2-4a4a-81e9-83fb1065445a",
   "metadata": {},
   "outputs": [
    {
     "data": {
      "text/plain": [
       "\n",
       "Call:\n",
       "lm(formula = gmv ~ age, data = average_gmv_scatter)\n",
       "\n",
       "Residuals:\n",
       "    Min      1Q  Median      3Q     Max \n",
       "-2384.8  -620.6  -239.3   741.6  2478.5 \n",
       "\n",
       "Coefficients:\n",
       "            Estimate Std. Error t value             Pr(>|t|)    \n",
       "(Intercept)  9272.30     251.24  36.905 < 0.0000000000000002 ***\n",
       "age           -49.20      10.15  -4.849            0.0000061 ***\n",
       "---\n",
       "Signif. codes:  0 '***' 0.001 '**' 0.01 '*' 0.05 '.' 0.1 ' ' 1\n",
       "\n",
       "Residual standard error: 1029 on 79 degrees of freedom\n",
       "  (2 observations deleted due to missingness)\n",
       "Multiple R-squared:  0.2294,\tAdjusted R-squared:  0.2196 \n",
       "F-statistic: 23.51 on 1 and 79 DF,  p-value: 0.000006101\n"
      ]
     },
     "metadata": {},
     "output_type": "display_data"
    }
   ],
   "source": [
    "gmv_lm <- lm(gmv ~ age, data = average_gmv_scatter)\n",
    "summary(gmv_lm)"
   ]
  },
  {
   "cell_type": "markdown",
   "id": "83aa732d-8aef-4334-87a4-02af8d927310",
   "metadata": {},
   "source": [
    "### Save total GMV model:"
   ]
  },
  {
   "cell_type": "code",
   "execution_count": 469,
   "id": "2f0d4068-41ae-42d3-8ade-4e3089dad298",
   "metadata": {},
   "outputs": [],
   "source": [
    "dat_save <- paste(savdir, 'total_gmv_age.RData', sep = '/')\n",
    "save(gmv_lm, file = dat_save)"
   ]
  },
  {
   "cell_type": "markdown",
   "id": "6b95b01d-2fff-4b1e-ad95-0f7affa9291a",
   "metadata": {},
   "source": [
    "### Test hypothesis (d):"
   ]
  },
  {
   "cell_type": "code",
   "execution_count": 470,
   "id": "6b29910c-8686-4d27-962d-181485e14eb0",
   "metadata": {},
   "outputs": [],
   "source": [
    "# function to loop through DKT regions\n",
    "run_lmm_and_extract_effects <- function(data) {\n",
    "    data <- na.omit(data)\n",
    "    model <- lmer(Slope ~ age * gmv + (1 | subj/realID) + (1|task), data = data, control = lmerControl(optimizer = 'bobyqa'))\n",
    "    \n",
    "    # Create prediction grid\n",
    "    age_range <- seq(min(data$age), max(data$age), length.out = 20)\n",
    "    gmv_range <- seq(min(data$gmv), max(data$gmv), length.out = 20)\n",
    "    pred_grid <- expand.grid(age = age_range, gmv = gmv_range)\n",
    "    \n",
    "    # Get predictions\n",
    "    pred_grid$predicted <- predict(model, newdata = pred_grid, re.form = NA)\n",
    "    \n",
    "    # Simple confidence intervals using model standard errors\n",
    "    mm <- model.matrix(~ age * gmv, data = pred_grid)\n",
    "    pvar <- diag(mm %*% tcrossprod(vcov(model), mm))\n",
    "    pred_grid$conf.low <- pred_grid$predicted - 1.39 * sqrt(pvar)  # ~83% CI\n",
    "    pred_grid$conf.high <- pred_grid$predicted + 1.39 * sqrt(pvar)\n",
    "    \n",
    "    return(pred_grid)\n",
    "}\n",
    "\n",
    "# create an empty list to populate with DKT labels\n",
    "DKT_levels <- unique(full_data$DKT)\n",
    "combined_results <- data.frame()\n",
    "results_df_slope <- data.frame()"
   ]
  },
  {
   "cell_type": "code",
   "execution_count": 471,
   "id": "68839a25-eaac-442f-9640-abd10b8554df",
   "metadata": {},
   "outputs": [
    {
     "name": "stdout",
     "output_type": "stream",
     "text": [
      "Processing DKT level: inferior parietal ...\n",
      "Processing DKT level: postcentral ...\n",
      "Processing DKT level: lateral occipital ...\n",
      "Processing DKT level: superior temporal ...\n",
      "Processing DKT level: fusiform ...\n",
      "Processing DKT level: middle temporal ...\n",
      "Processing DKT level: caudal middle frontal ...\n",
      "Processing DKT level: inferior temporal ...\n",
      "Processing DKT level: parahippocampal ...\n",
      "Processing DKT level: caudal anterior cingulate ...\n",
      "Processing DKT level: rostral middle frontal ...\n",
      "Processing DKT level: posterior cingulate ...\n",
      "Processing DKT level: superior parietal ...\n",
      "Processing DKT level: precentral ...\n",
      "Processing DKT level: medial orbitofrontal ...\n",
      "Processing DKT level: inferior frontal ...\n",
      "Processing DKT level: lateral orbitofrontal ...\n",
      "Processing DKT level: hippocampus ...\n",
      "Processing DKT level: insula ...\n",
      "Processing DKT level: amygdala ...\n"
     ]
    }
   ],
   "source": [
    "# apply lmer function in loop through DKT regions\n",
    "for (level in DKT_levels) {\n",
    "    cat('Processing DKT level:', level, '...\\n')\n",
    "      \n",
    "    # subset the data\n",
    "    subset_data <- full_data[full_data$DKT == level, ]\n",
    "\n",
    "    # run lmer and extract effects\n",
    "    results <- run_lmm_and_extract_effects(subset_data)\n",
    "    \n",
    "    # add the DKT level as a column in the results\n",
    "    results$DKT <- level\n",
    "\n",
    "    # append results to combined_results\n",
    "    combined_results <- rbind(combined_results, results)\n",
    "    \n",
    "    # run lmer for slope results\n",
    "    model <- lmer(Slope ~ age * gmv + (1 | subj/realID) + (1|task), data = subset_data, control = lmerControl(optimizer = 'bobyqa'))\n",
    "    summary_model <- summary(model)\n",
    "    \n",
    "    # extract estimates, standard errors, and p-values for the fixed effects\n",
    "    fixed_effects <- summary_model$coefficients[c(2, 3, 4), ]\n",
    "  \n",
    "    # create a new data frame to store the results for slope\n",
    "    result_row <- data.frame(\n",
    "        DKT = level,\n",
    "        Estimate_Age = fixed_effects[1, 'Estimate'],\n",
    "        SE_Age = fixed_effects[1, 'Std. Error'],\n",
    "        PValue_Age = fixed_effects[1, 'Pr(>|t|)'],\n",
    "        Estimate_GMV = fixed_effects[2, 'Estimate'],\n",
    "        SE_GMV = fixed_effects[2, 'Std. Error'],\n",
    "        PValue_GMV = fixed_effects[2, 'Pr(>|t|)'],\n",
    "        Estimate_Interaction = fixed_effects[3, 'Estimate'],\n",
    "        SE_Interaction = fixed_effects[3, 'Std. Error'],\n",
    "        PValue_Interaction = fixed_effects[3, 'Pr(>|t|)']\n",
    "    )\n",
    "\n",
    "    # append the results to the main data frame for slope\n",
    "    results_df_slope <- rbind(results_df_slope, result_row)\n",
    "}"
   ]
  },
  {
   "cell_type": "code",
   "execution_count": 472,
   "id": "cc13ac99-213a-4926-9388-d87d782861d4",
   "metadata": {},
   "outputs": [],
   "source": [
    "# combine the results into a single data frame\n",
    "combined_results <- combined_results %>% \n",
    "    rename(Slope = predicted)\n",
    "\n",
    "# generate table of all results for aperiodic slope\n",
    "slope_table <- results_df_slope %>% \n",
    "    dplyr::rename(ROI = DKT, P_Age = PValue_Age, P_GMV = PValue_GMV, P_Interaction = PValue_Interaction)"
   ]
  },
  {
   "cell_type": "markdown",
   "id": "d67c3acd-75f1-4af7-9ea1-718bb0c31c72",
   "metadata": {},
   "source": [
    "### Save model results:"
   ]
  },
  {
   "cell_type": "code",
   "execution_count": 475,
   "id": "d126f250-6b29-42ba-9b4e-6860f79315f8",
   "metadata": {},
   "outputs": [],
   "source": [
    "dat_save <- paste(savdir, 'results_slope_gmv.csv', sep = '/')\n",
    "write.csv(slope_table, dat_save, row.names = FALSE)"
   ]
  },
  {
   "cell_type": "markdown",
   "id": "c6eae187-6a0f-4e7a-822d-0ec05d3fdd10",
   "metadata": {},
   "source": [
    "### Plot GMV*age interaction in posterior cingulate:"
   ]
  },
  {
   "cell_type": "code",
   "execution_count": 477,
   "id": "a0d21cac-aef3-455c-bb76-ff9f937a120d",
   "metadata": {},
   "outputs": [
    {
     "data": {
      "image/png": "[encoded data removed]",
      "text/plain": [
       "plot without title"
      ]
     },
     "metadata": {},
     "output_type": "display_data"
    }
   ],
   "source": [
    "plot_data_pcc <- full_data %>% \n",
    "    ungroup() %>% \n",
    "    select(subj, DKT, Slope, age, gmv, task, Offset, sex) %>% \n",
    "    filter(DKT == 'posterior cingulate' | DKT == 'postcentral') %>% \n",
    "    group_by(subj, DKT, task, sex) %>% \n",
    "    summarise_all(funs(mean), na.rm = FALSE)\n",
    "\n",
    "ggplot(filter(na.omit(plot_data_pcc), DKT == 'posterior cingulate'), aes(x = age, y = Slope, color = gmv)) + \n",
    "    geom_point(alpha = .5, size = 5) +\n",
    "    geom_smooth(method = 'lm', linetype = 'solid', colour = 'gray50') +\n",
    "    scale_color_gradient(low = '#0091ff', high = '#f0650e', name = 'GMV [mm3]') +\n",
    "    labs(x='Age [years]', y = 'Aperiodic slope') +\n",
    "    theme_classic()  +\n",
    "    theme(legend.position='none',\n",
    "        legend.spacing.x = unit(0.1, 'cm'),\n",
    "        legend.key.size = unit(0.5, 'cm'),\n",
    "        legend.background = element_rect(fill=alpha('blue', 0)),\n",
    "        legend.text = element_text(size = 10, colour = 'black'),\n",
    "        legend.title = element_text(size = 12, colour = 'black'),\n",
    "        strip.text.x = element_text(size = 12, colour = 'black'),\n",
    "        strip.text.y = element_text(size = 12, colour = 'black'),\n",
    "        axis.text = element_text(size = 12),\n",
    "        axis.title = element_text(size = 12),\n",
    "        plot.title = element_text(size = 10, face = 'bold'))"
   ]
  },
  {
   "cell_type": "markdown",
   "id": "ae369f6e-d71e-4258-9401-abd573cd5983",
   "metadata": {},
   "source": [
    "### Plot GMV*age interaction in postcentral gyrus:"
   ]
  },
  {
   "cell_type": "code",
   "execution_count": 479,
   "id": "1399f94f-0267-4b2c-ba5e-efdcb722f30a",
   "metadata": {},
   "outputs": [
    {
     "data": {
      "image/png": "[encoded data removed]",
      "text/plain": [
       "plot without title"
      ]
     },
     "metadata": {},
     "output_type": "display_data"
    }
   ],
   "source": [
    "ggplot(filter(na.omit(plot_data_pcc), DKT == 'postcentral'), aes(x = age, y = Slope, color = gmv)) + \n",
    "    geom_point(alpha = .5, size = 5) +\n",
    "    geom_smooth(method = 'lm', linetype = 'solid', colour = 'gray50') +\n",
    "    scale_color_gradient(low = '#0091ff', high = '#f0650e', name = 'GMV [mm3]') +\n",
    "    labs(x='Age [years]', y = 'Aperiodic slope') +\n",
    "    theme_classic()  +\n",
    "    theme(legend.position='none',\n",
    "        legend.spacing.x = unit(0.1, 'cm'),\n",
    "        legend.key.size = unit(0.5, 'cm'),\n",
    "        legend.background = element_rect(fill=alpha('blue', 0)),\n",
    "        legend.text = element_text(size = 10, colour = 'black'),\n",
    "        legend.title = element_text(size = 12, colour = 'black'),\n",
    "        strip.text.x = element_text(size = 12, colour = 'black'),\n",
    "        strip.text.y = element_text(size = 12, colour = 'black'),\n",
    "        axis.text = element_text(size = 12),\n",
    "        axis.title = element_text(size = 12),\n",
    "        plot.title = element_text(size = 10, face = 'bold'))"
   ]
  },
  {
   "cell_type": "code",
   "execution_count": null,
   "id": "b7e96af9-9353-499c-bbaa-6190064759de",
   "metadata": {},
   "outputs": [],
   "source": []
  }
 ],
 "metadata": {
  "kernelspec": {
   "display_name": "R",
   "language": "R",
   "name": "ir"
  },
  "language_info": {
   "codemirror_mode": "r",
   "file_extension": ".r",
   "mimetype": "text/x-r-source",
   "name": "R",
   "pygments_lexer": "r",
   "version": "3.6.1"
  }
 },
 "nbformat": 4,
 "nbformat_minor": 5
}

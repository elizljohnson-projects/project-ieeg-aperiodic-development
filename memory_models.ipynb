{
 "cells": [
  {
   "cell_type": "markdown",
   "id": "1271f060-a719-460f-8591-86fd07d1109c",
   "metadata": {},
   "source": [
    "### **memory_models**\n",
    "\n",
    "Run hierarchical models on project data:\n",
    "- Explore whether age interacts with regionally specific aperiodic slopes to predict memory performance.\n",
    "\n",
    "Author: EL Johnson, PhD\n",
    "\n",
    "Copyright (c) 2022-2025  \n",
    "ZR Cross, PhD & EL Johnson, PhD"
   ]
  },
  {
   "cell_type": "markdown",
   "id": "288ddfaf-e487-4174-843f-af3d7145792d",
   "metadata": {},
   "source": [
    "### Set directories:"
   ]
  },
  {
   "cell_type": "code",
   "execution_count": 480,
   "id": "88b62d9a-35df-4ade-adb4-8af0b3d6c972",
   "metadata": {},
   "outputs": [],
   "source": [
    "pth <- getwd() # navigate to directory containing folders of downloaded data\n",
    "datdir <- paste(pth, 'Preprocessed_data', sep = '/')\n",
    "savdir <- datdir # replace with your save path"
   ]
  },
  {
   "cell_type": "markdown",
   "id": "44f4578f-d04d-4bdb-82dd-fe6b6dc15bec",
   "metadata": {},
   "source": [
    "### Load packages:  \n",
    "If lme4 needs to be installed, run on the Anaconda command line:  \n",
    "conda install -c conda-forge r-lme4"
   ]
  },
  {
   "cell_type": "code",
   "execution_count": 481,
   "id": "724a44a5-9bc6-4eaa-9a47-efb4c537dab4",
   "metadata": {},
   "outputs": [],
   "source": [
    "library(tidyverse)\n",
    "library(RColorBrewer)\n",
    "library(broom)\n",
    "library(lme4)\n",
    "library(splines)"
   ]
  },
  {
   "cell_type": "markdown",
   "id": "adfd2682-6b34-4bf7-98a0-db2b51e5d3f2",
   "metadata": {},
   "source": [
    "### Build outlier detection function:"
   ]
  },
  {
   "cell_type": "code",
   "execution_count": 483,
   "id": "beeed108-16ab-4bf5-b852-2b7e98e90d79",
   "metadata": {},
   "outputs": [],
   "source": [
    "outlierKD <- function(dt, var) {\n",
    "    var_name <- eval(substitute(var),eval(dt))\n",
    "    tot <- sum(!is.na(var_name))\n",
    "    na1 <- sum(is.na(var_name))\n",
    "    m1 <- mean(var_name, na.rm = T)\n",
    "    par(mfrow=c(2, 2), oma=c(0,0,3,0))\n",
    "    boxplot(var_name, main='With outliers')\n",
    "    hist(var_name, main='With outliers', xlab=NA, ylab=NA)\n",
    "    outlier <- boxplot.stats(var_name)$out\n",
    "    mo <- mean(outlier)\n",
    "    var_name <- ifelse(var_name %in% outlier, NA, var_name)\n",
    "    boxplot(var_name, main='Without outliers')\n",
    "    hist(var_name, main='Without outliers', xlab=NA, ylab=NA)\n",
    "    title('Outlier Check', outer=TRUE)\n",
    "    na2 <- sum(is.na(var_name))\n",
    "    message('Outliers identified: ', na2 - na1, ' from ', tot, ' observations')\n",
    "    message('Proportion (%) of outliers: ', (na2 - na1) / tot*100)\n",
    "    message('Mean of the outliers: ', mo)\n",
    "    m2 <- mean(var_name, na.rm = T)\n",
    "    message('Mean without removing outliers: ', m1)\n",
    "    message('Mean if we remove outliers: ', m2)\n",
    "    response <- readline(prompt='Do you want to remove outliers and to replace with NA? [yes/no]: ')\n",
    "    if(response == 'y' | response == 'yes'){\n",
    "        dt[as.character(substitute(var))] <- invisible(var_name)\n",
    "        assign(as.character(as.list(match.call())$dt), dt, envir = .GlobalEnv)\n",
    "        message('Outliers successfully removed', '\\n')\n",
    "        return(invisible(dt))\n",
    "    } else{\n",
    "        message('Nothing changed', '\\n')\n",
    "        return(invisible(var_name))\n",
    "    }\n",
    "}"
   ]
  },
  {
   "cell_type": "markdown",
   "id": "746e4ff3-17c2-4a23-a9e7-91b2fe0e2cd0",
   "metadata": {},
   "source": [
    "### Load data:"
   ]
  },
  {
   "cell_type": "code",
   "execution_count": 484,
   "id": "3d469c96-c6c9-4cac-8a49-e29eb1d83568",
   "metadata": {},
   "outputs": [],
   "source": [
    "dat_load <- paste(datdir, 'aperiodic_final_updated.csv', sep = '/')\n",
    "df <- read.csv(dat_load, header = T)\n",
    "\n",
    "dat_load <- paste(datdir, 'memory_performance.csv', sep = '/')\n",
    "memory_data <- read.csv(dat_load)\n",
    "colnames(memory_data)[1] <- 'subj'\n",
    "\n",
    "# join memory performance to aperiodic data frame\n",
    "df <- left_join(df, memory_data, by = c('subj', 'task'))\n",
    "\n",
    "patient_data <- df %>%  \n",
    "    select(subj, memory, age, task, condition) %>% \n",
    "    filter(condition == 'Task') %>% \n",
    "    group_by(subj, task, condition) %>% \n",
    "    summarise(memory = mean(memory), age = mean(age)) %>% \n",
    "    ungroup() %>% \n",
    "    select(-task, -condition) %>% \n",
    "    na.omit()\n",
    "patient_data$condition <- 'pt'"
   ]
  },
  {
   "cell_type": "code",
   "execution_count": 485,
   "id": "9d2da3c0-3b17-4511-9735-fd50121f154f",
   "metadata": {},
   "outputs": [
    {
     "data": {
      "text/plain": [
       "   Min. 1st Qu.  Median    Mean 3rd Qu.    Max. \n",
       "0.01215 0.35192 0.54167 0.54289 0.75507 1.00000 "
      ]
     },
     "metadata": {},
     "output_type": "display_data"
    }
   ],
   "source": [
    "# ensure our factors are indeed factors\n",
    "patient_data$subj <- as.factor(patient_data$subj)\n",
    "patient_data$condition <- as.factor(patient_data$condition)\n",
    "\n",
    "# lets get the mean and standard deviation of performance\n",
    "descriptive_memory <- patient_data %>% \n",
    "    summarise(average = mean(memory), sd = sd(memory))\n",
    "\n",
    "# also grab the range\n",
    "summary(patient_data$memory)"
   ]
  },
  {
   "cell_type": "markdown",
   "id": "f6ceb72b-bbea-431d-b6be-12b11d5b9f4f",
   "metadata": {},
   "source": [
    "### Test age effects on memory in patients vs. controls:"
   ]
  },
  {
   "cell_type": "code",
   "execution_count": 486,
   "id": "edd6baa5-e3fe-48a1-9c45-a1fee3418717",
   "metadata": {},
   "outputs": [],
   "source": [
    "# load control data\n",
    "dat_load <- paste(datdir, 'memory_behav_controls.csv', sep = '/')\n",
    "control_data <- read.csv(dat_load)\n",
    "\n",
    "# ensure our factors are indeed factors\n",
    "control_data$subj <- as.factor(control_data$subj)\n",
    "control_data$condition <- as.factor(control_data$condition)\n",
    "\n",
    "# join the two data frames together\n",
    "behav_plot_df <- rbind(patient_data, control_data) %>% \n",
    "    filter(memory > 0)\n",
    "\n",
    "# re-label group levels\n",
    "behav_plot_df$condition <- factor(behav_plot_df$condition,levels=c('ctrl','pt'), labels=c('Control','Patient'))\n",
    "\n",
    "# list subjects with memory performance data\n",
    "subj_list <- as.data.frame(unique(patient_data$subj))"
   ]
  },
  {
   "cell_type": "code",
   "execution_count": 487,
   "id": "a2efadd4-751c-4cec-8616-5bcffd55b46d",
   "metadata": {},
   "outputs": [
    {
     "data": {
      "text/plain": [
       "\n",
       "Call:\n",
       "lm(formula = memory ~ ns(age, df = 2), data = patient_data)\n",
       "\n",
       "Residuals:\n",
       "     Min       1Q   Median       3Q      Max \n",
       "-0.46952 -0.14164 -0.01106  0.15326  0.53204 \n",
       "\n",
       "Coefficients:\n",
       "                 Estimate Std. Error t value    Pr(>|t|)    \n",
       "(Intercept)       0.21775    0.06847   3.180     0.00205 ** \n",
       "ns(age, df = 2)1  0.89665    0.16072   5.579 0.000000275 ***\n",
       "ns(age, df = 2)2  0.29926    0.13354   2.241     0.02761 *  \n",
       "---\n",
       "Signif. codes:  0 '***' 0.001 '**' 0.01 '*' 0.05 '.' 0.1 ' ' 1\n",
       "\n",
       "Residual standard error: 0.2211 on 86 degrees of freedom\n",
       "Multiple R-squared:  0.287,\tAdjusted R-squared:  0.2704 \n",
       "F-statistic: 17.31 on 2 and 86 DF,  p-value: 0.0000004817\n"
      ]
     },
     "metadata": {},
     "output_type": "display_data"
    },
    {
     "name": "stderr",
     "output_type": "stream",
     "text": [
      "boundary (singular) fit: see ?isSingular\n"
     ]
    },
    {
     "data": {
      "text/plain": [
       "Linear mixed model fit by REML. t-tests use Satterthwaite's method [\n",
       "lmerModLmerTest]\n",
       "Formula: memory ~ 1 + (1 | subj)\n",
       "   Data: patient_data\n",
       "Control: lmerControl(optimizer = \"bobyqa\")\n",
       "\n",
       "REML criterion at convergence: 16.3\n",
       "\n",
       "Scaled residuals: \n",
       "     Min       1Q   Median       3Q      Max \n",
       "-2.05060 -0.73782 -0.00472  0.81981  1.76613 \n",
       "\n",
       "Random effects:\n",
       " Groups   Name        Variance Std.Dev.\n",
       " subj     (Intercept) 0.00000  0.0000  \n",
       " Residual             0.06699  0.2588  \n",
       "Number of obs: 89, groups:  subj, 81\n",
       "\n",
       "Fixed effects:\n",
       "            Estimate Std. Error       df t value            Pr(>|t|)    \n",
       "(Intercept)  0.54289    0.02744 88.00000   19.79 <0.0000000000000002 ***\n",
       "---\n",
       "Signif. codes:  0 '***' 0.001 '**' 0.01 '*' 0.05 '.' 0.1 ' ' 1\n",
       "optimizer (bobyqa) convergence code: 0 (OK)\n",
       "boundary (singular) fit: see ?isSingular\n"
      ]
     },
     "metadata": {},
     "output_type": "display_data"
    }
   ],
   "source": [
    "# run linear regression with two cubic splines for patient data only\n",
    "patient_data <- filter(behav_plot_df, condition == 'Patient')\n",
    "\n",
    "mem.age <- lm(memory ~ ns(age, df = 2), data = patient_data)\n",
    "summary(mem.age)\n",
    "\n",
    "# run mixed model comparing memory against zero\n",
    "m1. <- lmer(memory ~ 1 + (1 | subj), data = patient_data, control = lmerControl(optimizer = 'bobyqa'))\n",
    "summary(m1.)"
   ]
  },
  {
   "cell_type": "markdown",
   "id": "4c0fdfb3-758f-4fe7-b3b9-7491df6fe8ce",
   "metadata": {},
   "source": [
    "### Plot memory by age in patients and controls:"
   ]
  },
  {
   "cell_type": "code",
   "execution_count": 488,
   "id": "2beca0e5-f18c-4f59-b3d8-8845d6b61bba",
   "metadata": {},
   "outputs": [],
   "source": [
    "# create age values for prediction\n",
    "age_values <- seq(from = min(patient_data$age, na.rm = TRUE), \n",
    "                  to = max(patient_data$age, na.rm = TRUE), \n",
    "                  length.out = 100)\n",
    "\n",
    "# get predictions\n",
    "mem.age.df <- data.frame(age = age_values)\n",
    "mem.age.df$memory <- predict(mem.age, newdata = mem.age.df)\n",
    "\n",
    "# extract confidence intervals\n",
    "predictions <- predict(mem.age, newdata = mem.age.df, interval = 'confidence', level = 0.83)\n",
    "mem.age.df$conf.low <- predictions[, 'lwr']\n",
    "mem.age.df$conf.high <- predictions[, 'upr']"
   ]
  },
  {
   "cell_type": "code",
   "execution_count": 406,
   "id": "7b95b940-9ac6-49e0-bee4-0dc1ead6a342",
   "metadata": {},
   "outputs": [
    {
     "data": {
      "image/png": "[encoded data removed]",
      "text/plain": [
       "plot without title"
      ]
     },
     "metadata": {},
     "output_type": "display_data"
    }
   ],
   "source": [
    "# plot\n",
    "ggplot(mem.age.df, aes(age, memory)) +\n",
    "    scale_linetype_manual(values = c('solid', 'longdash', 'solid')) +\n",
    "    scale_fill_manual(values = c('turquoise4', 'turquoise4', 'turquoise4')) +\n",
    "    geom_ribbon(aes(ymin = conf.low, ymax = conf.high), alpha = 0.3, fill = 'turquoise4') +\n",
    "    geom_line(color = 'turquoise4', size = 1) + \n",
    "    scale_x_continuous(limits = c(5, 55), breaks = seq(5, 55, by = 10)) +\n",
    "    scale_y_continuous(breaks = scales::pretty_breaks(n = 6)) +\n",
    "    labs(y='Recognition accuracy', x = 'Age') +\n",
    "        geom_hline(yintercept = 0, linetype = 'solid', color = 'grey', size = 0.5) +\n",
    "    scale_shape_manual(values = c(1,19,1))+\n",
    "    scale_color_manual(values = c('#101820FF','turquoise4','turquoise4'))+ \n",
    "    geom_point(aes(shape = condition, color = condition, fill = condition), alpha = 0.6, size = 4, data = behav_plot_df) +\n",
    "    theme_classic() +  \n",
    "    theme(legend.position = 'none',\n",
    "        axis.title.x = element_text(size = 16),\n",
    "        plot.title = element_text(size = 14, face = 'bold'),\n",
    "        axis.title.y = element_text(size = 16),\n",
    "        axis.text.x = element_text(size = 16),\n",
    "        axis.text.y = element_text(size = 16),\n",
    "        strip.text.x = element_text(size = 17),\n",
    "        panel.grid.major = element_blank(), panel.grid.minor = element_blank())"
   ]
  },
  {
   "cell_type": "markdown",
   "id": "626daf84-230c-4c41-8621-83371c0116d0",
   "metadata": {},
   "source": [
    "### Prepare data frame for modeling:"
   ]
  },
  {
   "cell_type": "code",
   "execution_count": 489,
   "id": "3967c49c-1033-4e2f-8e9c-44e734d10cda",
   "metadata": {},
   "outputs": [],
   "source": [
    "# average over epochs and filter channels with a model fit of >.90\n",
    "average_df <- df %>% \n",
    "    dplyr::select(subj, age, task, Slope, R.2, DKT, Offset, memory) %>%\n",
    "    filter(task != 'Rest') %>% \n",
    "    group_by(subj, task, DKT) %>%\n",
    "    dplyr::summarise(Slope = mean(Slope),\n",
    "                     Offset = mean(Offset),\n",
    "                     age = mean(age),\n",
    "                     R.2 = mean(R.2),\n",
    "                     memory = mean(memory)) %>% \n",
    "na.omit()\n",
    "\n",
    "# factorize variables\n",
    "average_df$subj <- factor(average_df$subj)\n",
    "average_df$task <- factor(average_df$task)\n",
    "average_df$DKT <- factor(average_df$DKT)"
   ]
  },
  {
   "cell_type": "code",
   "execution_count": 490,
   "id": "b4218f0a-d2af-46cc-a02c-bab2a766be45",
   "metadata": {},
   "outputs": [
    {
     "data": {
      "text/plain": [
       "\n",
       "Call:\n",
       "lm(formula = memory ~ age, data = overall_memory)\n",
       "\n",
       "Residuals:\n",
       "     Min       1Q   Median       3Q      Max \n",
       "-0.49962 -0.16481 -0.03562  0.16908  0.53240 \n",
       "\n",
       "Coefficients:\n",
       "            Estimate Std. Error t value   Pr(>|t|)    \n",
       "(Intercept) 0.275694   0.057067   4.831 0.00000578 ***\n",
       "age         0.012794   0.002476   5.167 0.00000150 ***\n",
       "---\n",
       "Signif. codes:  0 '***' 0.001 '**' 0.01 '*' 0.05 '.' 0.1 ' ' 1\n",
       "\n",
       "Residual standard error: 0.2277 on 87 degrees of freedom\n",
       "Multiple R-squared:  0.2348,\tAdjusted R-squared:  0.226 \n",
       "F-statistic:  26.7 on 1 and 87 DF,  p-value: 0.000001495\n"
      ]
     },
     "metadata": {},
     "output_type": "display_data"
    }
   ],
   "source": [
    "# filter out rest data\n",
    "resting_state_df <- df %>% \n",
    "    dplyr::select(subj, age, condition, Slope, R.2, DKT, Offset, task) %>%\n",
    "    filter(task == 'Rest' & condition != 'Task') %>% \n",
    "    group_by(subj, condition, DKT, task) %>%\n",
    "    dplyr::summarise(Slope = mean(Slope),\n",
    "                   Offset = mean(Offset),\n",
    "                   age = mean(age),\n",
    "                   R.2 = mean(R.2)) %>% \n",
    "na.omit()\n",
    "\n",
    "memory_df <- average_df %>% \n",
    "    select(subj, memory, age, task) %>% \n",
    "    group_by(subj) %>% \n",
    "    summarise(memory = mean(memory), age = mean(age))\n",
    "\n",
    "# join memory performance to resting-state slope\n",
    "memory_rest <- left_join(memory_df, resting_state_df, by = c('subj', 'age')) %>% \n",
    "    select(-condition, -R.2) %>% \n",
    "na.omit()\n",
    "memory_rest$subj <- as.factor(memory_rest$subj)\n",
    "memory_rest$DKT <- as.factor(memory_rest$DKT)\n",
    "\n",
    "overall_memory <- average_df %>% \n",
    "    select(subj, age, memory, task) %>% \n",
    "    group_by(subj, task) %>% \n",
    "    dplyr::summarise(memory = mean(memory), age = mean(age))\n",
    "\n",
    "# get descriptive stats\n",
    "mean_memory <- mean(overall_memory$memory)\n",
    "sd_memory <- sd(overall_memory$memory)\n",
    "\n",
    "# run model to examine memory performance\n",
    "mem_model <- lm(memory ~ age, data = overall_memory)\n",
    "summary(mem_model)"
   ]
  },
  {
   "cell_type": "markdown",
   "id": "ad2e1b2d-573b-48b9-accf-34b74cd2209a",
   "metadata": {},
   "source": [
    "### Remove slope outliers:"
   ]
  },
  {
   "cell_type": "code",
   "execution_count": 491,
   "id": "bfa98aef-a881-4ff0-9d5e-f2bb33ff07a7",
   "metadata": {},
   "outputs": [
    {
     "name": "stderr",
     "output_type": "stream",
     "text": [
      "Outliers identified: 7 from 919 observations\n",
      "Proportion (%) of outliers: 0.761697497279652\n",
      "Mean of the outliers: 2.51931427915306\n",
      "Mean without removing outliers: 2.05002378277113\n",
      "Mean if we remove outliers: 2.04642177238223\n"
     ]
    },
    {
     "name": "stdin",
     "output_type": "stream",
     "text": [
      "Do you want to remove outliers and to replace with NA? [yes/no]:  yes\n"
     ]
    },
    {
     "name": "stderr",
     "output_type": "stream",
     "text": [
      "Outliers successfully removed\n",
      "\n"
     ]
    },
    {
     "data": {
      "image/png": "[encoded data removed]",
      "text/plain": [
       "Plot with title \"Outlier Check\""
      ]
     },
     "metadata": {},
     "output_type": "display_data"
    }
   ],
   "source": [
    "outlierKD(average_df, Slope)"
   ]
  },
  {
   "cell_type": "markdown",
   "id": "14283043-21d7-4059-9be0-61a99c20206b",
   "metadata": {},
   "source": [
    "### Run regression models:"
   ]
  },
  {
   "cell_type": "code",
   "execution_count": 492,
   "id": "40bb9813-03ce-4efc-ae3b-ae643d1b51d7",
   "metadata": {},
   "outputs": [],
   "source": [
    "# regression model function\n",
    "run_lmm_and_extract_effects <- function(data) {\n",
    "    data <- na.omit(data)  # filter out rows with missing values\n",
    "    model <- lm(memory ~ Slope * age, data = data)\n",
    "    \n",
    "    # create prediction grid\n",
    "    slope_range <- seq(min(data$Slope), max(data$Slope), length.out = 20)\n",
    "    age_range <- seq(min(data$age), max(data$age), length.out = 20)\n",
    "    pred_grid <- expand.grid(Slope = slope_range, age = age_range)\n",
    "    \n",
    "    # cet predictions with 83% CIs\n",
    "    predictions <- predict(model, newdata = pred_grid, interval = 'confidence', level = 0.83)\n",
    "    \n",
    "    # create result data frame\n",
    "    result <- data.frame(\n",
    "        x = pred_grid$Slope,\n",
    "        predicted = predictions[, 'fit'],\n",
    "        conf.low = predictions[, 'lwr'],\n",
    "        conf.high = predictions[, 'upr'],\n",
    "        group = pred_grid$age\n",
    "    )\n",
    "    \n",
    "    return(result)\n",
    "}"
   ]
  },
  {
   "cell_type": "code",
   "execution_count": 493,
   "id": "3eade1c3-81ae-4c70-ae8d-6aeb48d8c4d3",
   "metadata": {},
   "outputs": [
    {
     "name": "stdout",
     "output_type": "stream",
     "text": [
      "Processing DKT level: caudal middle frontal ...\n",
      "Processing DKT level: fusiform ...\n",
      "Processing DKT level: inferior parietal ...\n",
      "Processing DKT level: inferior temporal ...\n",
      "Processing DKT level: lateral occipital ...\n",
      "Processing DKT level: middle temporal ...\n",
      "Processing DKT level: parahippocampal ...\n",
      "Processing DKT level: postcentral ...\n",
      "Processing DKT level: superior temporal ...\n",
      "Processing DKT level: caudal anterior cingulate ...\n",
      "Processing DKT level: rostral middle frontal ...\n",
      "Processing DKT level: posterior cingulate ...\n",
      "Processing DKT level: precentral ...\n",
      "Processing DKT level: superior parietal ...\n",
      "Processing DKT level: medial orbitofrontal ...\n",
      "Processing DKT level: inferior frontal ...\n",
      "Processing DKT level: lateral orbitofrontal ...\n",
      "Processing DKT level: hippocampus ...\n",
      "Processing DKT level: subcortical ...\n",
      "Processing DKT level: insula ...\n",
      "Processing DKT level: amygdala ...\n"
     ]
    }
   ],
   "source": [
    "# create an empty list to populate with DKT labels\n",
    "DKT_levels <- unique(average_df$DKT)\n",
    "combined_results <- data.frame() \n",
    "results_df_slope <- data.frame() \n",
    "\n",
    "# loop through DKT regions and save\n",
    "for (level in DKT_levels) {\n",
    "    cat('Processing DKT level:', level, '...\\n')\n",
    "    \n",
    "    # subset the data\n",
    "    subset_data <- average_df[average_df$DKT == level, ]\n",
    "    \n",
    "    # run lmer and extract effects\n",
    "    results <- run_lmm_and_extract_effects(subset_data)\n",
    "\n",
    "    # add the DKT level as a column in the results\n",
    "    results$DKT <- level\n",
    "\n",
    "    # append results to combined_results\n",
    "    combined_results <- rbind(combined_results, results)\n",
    "    \n",
    "    # run lmer for slope results\n",
    "    model <- lm(memory ~ Slope * age, data = subset_data)\n",
    "    \n",
    "    summary_model <- summary(model)\n",
    "    \n",
    "    # extract estimates, standard errors, and p-values for the fixed effects\n",
    "    fixed_effects <- summary_model$coefficients[c(2, 3, 4), ]\n",
    "\n",
    "    # create a new data frame to store the results for slope\n",
    "    result_row <- data.frame(\n",
    "        DKT = level,\n",
    "        Estimate_Slope = fixed_effects[1, 'Estimate'],\n",
    "        SE_Slope = fixed_effects[1, 'Std. Error'],\n",
    "        PValue_Slope = fixed_effects[1, 'Pr(>|t|)'],\n",
    "        Estimate_Age = fixed_effects[2, 'Estimate'],\n",
    "        SE_Age = fixed_effects[2, 'Std. Error'],\n",
    "        PValue_Age = fixed_effects[2, 'Pr(>|t|)'],\n",
    "        Estimate_Interaction = fixed_effects[3, 'Estimate'],\n",
    "        SE_Interaction = fixed_effects[3, 'Std. Error'],\n",
    "        PValue_Interaction = fixed_effects[3, 'Pr(>|t|)']\n",
    "    )\n",
    "    \n",
    "    # append the results to the main data frame for slope\n",
    "    results_df_slope <- rbind(results_df_slope, result_row)\n",
    "}"
   ]
  },
  {
   "cell_type": "code",
   "execution_count": 494,
   "id": "5707e8f1-2075-4e17-9a03-a5bd8e58aa3f",
   "metadata": {},
   "outputs": [],
   "source": [
    "# combine the results into a single data frame\n",
    "combined_results <- combined_results %>% \n",
    "    rename(memory = predicted, Slope = x, age = group)\n",
    "\n",
    "# generate table of all results for aperiodic slope\n",
    "slope_table <- results_df_slope %>% \n",
    "    dplyr::rename(ROI = DKT, P_Age = PValue_Age, P_Slope = PValue_Slope, P_Interaction = PValue_Interaction)"
   ]
  },
  {
   "cell_type": "markdown",
   "id": "a07398b2-85f8-4656-9cb8-ce3cba85fc27",
   "metadata": {},
   "source": [
    "### Save model results:"
   ]
  },
  {
   "cell_type": "code",
   "execution_count": 495,
   "id": "6abb599c-6192-4140-9e70-57c8e1f54002",
   "metadata": {},
   "outputs": [],
   "source": [
    "dat_save <- paste(savdir, 'results_slope_memory.csv', sep = '/')\n",
    "write.csv(slope_table, dat_save, row.names = FALSE)"
   ]
  },
  {
   "cell_type": "markdown",
   "id": "16d6f3fc-de87-4697-81d8-a715c6f86dd2",
   "metadata": {},
   "source": [
    "### Plot slope effects:"
   ]
  },
  {
   "cell_type": "code",
   "execution_count": 496,
   "id": "0377f660-70cd-4e7a-b8e5-2819f7a304bb",
   "metadata": {},
   "outputs": [
    {
     "data": {
      "image/png": "[encoded data removed]",
      "text/plain": [
       "plot without title"
      ]
     },
     "metadata": {},
     "output_type": "display_data"
    }
   ],
   "source": [
    "ggplot(average_df, aes(x = Slope, y = memory)) + \n",
    "    geom_point(color = 'brown3', alpha = 0.6, size = 2) +  # change to brick red\n",
    "    geom_smooth(method = 'lm', linetype = 'solid', color = 'darkgray') +\n",
    "    geom_ribbon(aes(ymin = ..ymin.., ymax = ..ymax..), stat = 'smooth', method = 'lm', fill = 'darkgray', alpha = 0.1) + \n",
    "    facet_wrap(~DKT) +\n",
    "    scale_color_viridis_c(option = 'magma') +\n",
    "    xlab('Aperiodic slope') + ylab ('Recognition accuracy') +\n",
    "    theme_classic() +\n",
    "    theme(legend.position = 'none',\n",
    "        legend.spacing.x = unit(0.1, 'cm'),\n",
    "        legend.key.size = unit(0.5, 'cm'),\n",
    "        legend.background = element_rect(fill = alpha('blue', 0)),\n",
    "        legend.text = element_text(size = 8, colour = 'black'),\n",
    "        legend.title = element_text(size = 8, colour = 'black'),\n",
    "        strip.text.x = element_text(size = 8, colour = 'black'),\n",
    "        strip.text.y = element_text(size = 8, colour = 'black'),\n",
    "        axis.text = element_text(size = 8),\n",
    "        axis.title = element_text(size = 12),\n",
    "        plot.title = element_text(size = 8, face = 'bold'))"
   ]
  },
  {
   "cell_type": "markdown",
   "id": "b3c6a2e9-e455-4199-b197-f7c80dcd84d4",
   "metadata": {},
   "source": [
    "### Plot slope*age interaction in rMFG:"
   ]
  },
  {
   "cell_type": "code",
   "execution_count": 497,
   "id": "e6012573-7885-4621-8925-b732753f756b",
   "metadata": {},
   "outputs": [
    {
     "data": {
      "image/png": "[encoded data removed]",
      "text/plain": [
       "plot without title"
      ]
     },
     "metadata": {},
     "output_type": "display_data"
    }
   ],
   "source": [
    "ggplot(filter(average_df, DKT == 'rostral middle frontal'), aes(x = age, y = Slope, color = memory)) + \n",
    "    geom_point(alpha = .5, size = 5) +\n",
    "    geom_smooth(method = 'lm', linetype='solid', colour = 'gray50') +\n",
    "    scale_color_gradient(low = '#0091ff', high = '#f0650e', name = 'memory') +\n",
    "    labs(x='Age [years]', y = 'Aperiodic Slope') +\n",
    "    theme_classic()  +\n",
    "    theme(legend.position='right',\n",
    "        legend.spacing.x = unit(0.1, 'cm'),\n",
    "        legend.key.size = unit(0.5, 'cm'),\n",
    "        legend.background = element_rect(fill=alpha('blue', 0)),\n",
    "        legend.text = element_text(size = 10, colour = 'black'),\n",
    "        legend.title = element_text(size = 12, colour = 'black'),\n",
    "        strip.text.x = element_text(size = 12, colour = 'black'),\n",
    "        strip.text.y = element_text(size = 12, colour = 'black'),\n",
    "        axis.text = element_text(size = 12),\n",
    "        axis.title = element_text(size = 12),\n",
    "        plot.title = element_text(size = 10, face = 'bold'))"
   ]
  },
  {
   "cell_type": "code",
   "execution_count": null,
   "id": "699a4e23-ec7a-4d3d-9e03-8a82a46093d6",
   "metadata": {},
   "outputs": [],
   "source": []
  }
 ],
 "metadata": {
  "kernelspec": {
   "display_name": "R",
   "language": "R",
   "name": "ir"
  },
  "language_info": {
   "codemirror_mode": "r",
   "file_extension": ".r",
   "mimetype": "text/x-r-source",
   "name": "R",
   "pygments_lexer": "r",
   "version": "3.6.1"
  }
 },
 "nbformat": 4,
 "nbformat_minor": 5
}
